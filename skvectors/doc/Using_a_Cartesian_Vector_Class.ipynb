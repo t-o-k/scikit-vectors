{
 "cells": [
  {
   "cell_type": "markdown",
   "metadata": {},
   "source": [
    "# Using a Cartesian Vector Class"
   ]
  },
  {
   "cell_type": "markdown",
   "metadata": {},
   "source": [
    "Copyright (c) 2019 Tor Olav Kristensen, http://subcube.com\n",
    "\n",
    "https://github.com/t-o-k/scikit-vectors\n",
    "\n",
    "Use of this source code is governed by a BSD-license that can be found in the LICENSE file."
   ]
  },
  {
   "cell_type": "code",
   "execution_count": 1,
   "metadata": {},
   "outputs": [],
   "source": [
    "from skvectors import create_class_Cartesian_Vector"
   ]
  },
  {
   "cell_type": "code",
   "execution_count": 2,
   "metadata": {
    "scrolled": false
   },
   "outputs": [],
   "source": [
    "# Create a 4-dimensional cartesian vector class\n",
    "\n",
    "CVC = create_class_Cartesian_Vector('CVC', 'ABCD')\n",
    "\n",
    "# Explicit alternative:\n",
    "# CVC = \\\n",
    "#     create_class_Cartesian_Vector(\n",
    "#         name = 'CVC',\n",
    "#         component_names = [ 'A', 'B', 'C', 'D' ],\n",
    "#         brackets = [ '<', '>' ],\n",
    "#         sep = ', ',\n",
    "#         cnull = 0,\n",
    "#         cunit = 1,\n",
    "#         functions = None\n",
    "#     )"
   ]
  },
  {
   "cell_type": "code",
   "execution_count": 3,
   "metadata": {},
   "outputs": [
    {
     "data": {
      "text/plain": [
       "True"
      ]
     },
     "execution_count": 3,
     "metadata": {},
     "output_type": "execute_result"
    }
   ],
   "source": [
    "# Check if a vector is the zero vector (i.e. its length is equal to cnull)\n",
    "u = CVC(0, 0, 0, 0)\n",
    "u.is_zero_vector()"
   ]
  },
  {
   "cell_type": "code",
   "execution_count": 4,
   "metadata": {},
   "outputs": [
    {
     "data": {
      "text/plain": [
       "False"
      ]
     },
     "execution_count": 4,
     "metadata": {},
     "output_type": "execute_result"
    }
   ],
   "source": [
    "# Check if a vector is the zero vector\n",
    "u = CVC(0, 0, 1, 0)\n",
    "u.is_zero_vector()"
   ]
  },
  {
   "cell_type": "code",
   "execution_count": 5,
   "metadata": {},
   "outputs": [
    {
     "data": {
      "text/plain": [
       "True"
      ]
     },
     "execution_count": 5,
     "metadata": {},
     "output_type": "execute_result"
    }
   ],
   "source": [
    "# Check if a vector is a unit vector (i.e. its length is equal to cunit)\n",
    "u = CVC(0.6, 0.0, -0.8, 0.0)\n",
    "u.is_unit_vector()"
   ]
  },
  {
   "cell_type": "code",
   "execution_count": 6,
   "metadata": {},
   "outputs": [
    {
     "data": {
      "text/plain": [
       "False"
      ]
     },
     "execution_count": 6,
     "metadata": {},
     "output_type": "execute_result"
    }
   ],
   "source": [
    "# Check if a vector is a unit vector\n",
    "u = CVC(-0.1, 0.5, 0.0, 0.8)\n",
    "u.is_unit_vector()"
   ]
  },
  {
   "cell_type": "code",
   "execution_count": 7,
   "metadata": {},
   "outputs": [
    {
     "data": {
      "text/plain": [
       "False"
      ]
     },
     "execution_count": 7,
     "metadata": {},
     "output_type": "execute_result"
    }
   ],
   "source": [
    "# Check if a vector is equal to another\n",
    "u = CVC(-3, -1, 4, 2)\n",
    "v = CVC(-3, 1, 4, 2)\n",
    "u == v"
   ]
  },
  {
   "cell_type": "code",
   "execution_count": 8,
   "metadata": {},
   "outputs": [
    {
     "data": {
      "text/plain": [
       "True"
      ]
     },
     "execution_count": 8,
     "metadata": {},
     "output_type": "execute_result"
    }
   ],
   "source": [
    "# Check if a vector is not equal to another\n",
    "u = CVC(-3, -1, 4, 2)\n",
    "v = CVC(-3, 1, 4, 2)\n",
    "u != v"
   ]
  },
  {
   "cell_type": "code",
   "execution_count": 9,
   "metadata": {},
   "outputs": [
    {
     "data": {
      "text/plain": [
       "True"
      ]
     },
     "execution_count": 9,
     "metadata": {},
     "output_type": "execute_result"
    }
   ],
   "source": [
    "# Check if a vector is orthogonal to another\n",
    "u = CVC(3, 2, -1, 4)\n",
    "v = CVC(0, 3, 6, 0)\n",
    "u.are_orthogonal(v)"
   ]
  },
  {
   "cell_type": "code",
   "execution_count": 10,
   "metadata": {},
   "outputs": [
    {
     "data": {
      "text/plain": [
       "False"
      ]
     },
     "execution_count": 10,
     "metadata": {},
     "output_type": "execute_result"
    }
   ],
   "source": [
    "# Check if a vector is orthogonal to another\n",
    "u = CVC(3, 2, -1, 4)\n",
    "v = CVC(0, 3, 6, 4)\n",
    "u.are_orthogonal(v)"
   ]
  },
  {
   "cell_type": "code",
   "execution_count": 11,
   "metadata": {},
   "outputs": [
    {
     "data": {
      "text/plain": [
       "True"
      ]
     },
     "execution_count": 11,
     "metadata": {},
     "output_type": "execute_result"
    }
   ],
   "source": [
    "# NB: All vectors are orthogonal to the zero vector\n",
    "u = CVC(3, 2, -1, 4)\n",
    "v = CVC(0, 0, 0, 0)\n",
    "u.are_orthogonal(v)"
   ]
  },
  {
   "cell_type": "code",
   "execution_count": 12,
   "metadata": {},
   "outputs": [
    {
     "data": {
      "text/plain": [
       "True"
      ]
     },
     "execution_count": 12,
     "metadata": {},
     "output_type": "execute_result"
    }
   ],
   "source": [
    "# NB: The zero vector is orthogonal to all vectors\n",
    "u = CVC(0, 0, 0, 0)\n",
    "v = CVC(3, 2, -1, 4)\n",
    "u.are_orthogonal(v)"
   ]
  },
  {
   "cell_type": "code",
   "execution_count": 13,
   "metadata": {},
   "outputs": [
    {
     "data": {
      "text/plain": [
       "False"
      ]
     },
     "execution_count": 13,
     "metadata": {},
     "output_type": "execute_result"
    }
   ],
   "source": [
    "# Check if the length of a vector is equal to the length of another\n",
    "u = CVC(-4, -2, 4, 1)\n",
    "v = CVC(5, 1, 1, -3)\n",
    "u.equal_lengths(v)"
   ]
  },
  {
   "cell_type": "code",
   "execution_count": 14,
   "metadata": {},
   "outputs": [
    {
     "data": {
      "text/plain": [
       "True"
      ]
     },
     "execution_count": 14,
     "metadata": {},
     "output_type": "execute_result"
    }
   ],
   "source": [
    "# Check if the length of a vector is equal to the length of another\n",
    "(2 * CVC(-2, -1, 2, 0)).equal_lengths(CVC(15, 3, 3, -9) / 3)"
   ]
  },
  {
   "cell_type": "code",
   "execution_count": 15,
   "metadata": {},
   "outputs": [
    {
     "data": {
      "text/plain": [
       "False"
      ]
     },
     "execution_count": 15,
     "metadata": {},
     "output_type": "execute_result"
    }
   ],
   "source": [
    "# Check if a vector is shorter than another\n",
    "u = CVC(1, 3, -5, 1)\n",
    "v = CVC(-4, 0, 4, -2)\n",
    "u.shorter(v)"
   ]
  },
  {
   "cell_type": "code",
   "execution_count": 16,
   "metadata": {},
   "outputs": [
    {
     "data": {
      "text/plain": [
       "True"
      ]
     },
     "execution_count": 16,
     "metadata": {},
     "output_type": "execute_result"
    }
   ],
   "source": [
    "# Check if a vector is shorter than another\n",
    "u = CVC(5, -3, -1, -1)\n",
    "v = CVC(2, -5, 4, 2)\n",
    "u.shorter(v)"
   ]
  },
  {
   "cell_type": "code",
   "execution_count": 17,
   "metadata": {},
   "outputs": [
    {
     "data": {
      "text/plain": [
       "False"
      ]
     },
     "execution_count": 17,
     "metadata": {},
     "output_type": "execute_result"
    }
   ],
   "source": [
    "# Check if a vector is longer than another\n",
    "u = CVC(1, 3, -5, 1)\n",
    "v = CVC(-4, 0, 4, -2)\n",
    "u.longer(v)"
   ]
  },
  {
   "cell_type": "code",
   "execution_count": 18,
   "metadata": {},
   "outputs": [
    {
     "data": {
      "text/plain": [
       "True"
      ]
     },
     "execution_count": 18,
     "metadata": {},
     "output_type": "execute_result"
    }
   ],
   "source": [
    "# Check if a vector is longer than another\n",
    "u = CVC(-2, 2, 4, 5)\n",
    "v = CVC(1, -5, -1, 3)\n",
    "u.longer(v)"
   ]
  },
  {
   "cell_type": "code",
   "execution_count": 19,
   "metadata": {},
   "outputs": [
    {
     "data": {
      "text/plain": [
       "-13"
      ]
     },
     "execution_count": 19,
     "metadata": {},
     "output_type": "execute_result"
    }
   ],
   "source": [
    "# Calculate the dot product of a vector and another\n",
    "u = CVC(-2, 1, -1, 3)\n",
    "v = CVC(2, 3, 0, -4)\n",
    "u.dot(v)"
   ]
  },
  {
   "cell_type": "code",
   "execution_count": 20,
   "metadata": {},
   "outputs": [
    {
     "data": {
      "text/plain": [
       "-13"
      ]
     },
     "execution_count": 20,
     "metadata": {},
     "output_type": "execute_result"
    }
   ],
   "source": [
    "# Calculate the dot product of a vector and another\n",
    "(CVC(-4, -1, -3, 1) + 2).dot(CVC(3, 4, 1, -3) - 1)"
   ]
  },
  {
   "cell_type": "code",
   "execution_count": 21,
   "metadata": {},
   "outputs": [
    {
     "data": {
      "text/plain": [
       "7.0"
      ]
     },
     "execution_count": 21,
     "metadata": {},
     "output_type": "execute_result"
    }
   ],
   "source": [
    "# Calculate the length (magnitude) of a vector\n",
    "u = CVC(-2, -5, 4, 2)\n",
    "u.length()"
   ]
  },
  {
   "cell_type": "code",
   "execution_count": 22,
   "metadata": {},
   "outputs": [
    {
     "data": {
      "text/plain": [
       "6.0"
      ]
     },
     "execution_count": 22,
     "metadata": {},
     "output_type": "execute_result"
    }
   ],
   "source": [
    "# Calculate the length of a vector\n",
    "(CVC(3, -2, -3, 7) - CVC(2, -7, -2, 4)).length()"
   ]
  },
  {
   "cell_type": "code",
   "execution_count": 23,
   "metadata": {},
   "outputs": [
    {
     "data": {
      "text/plain": [
       "6.0"
      ]
     },
     "execution_count": 23,
     "metadata": {},
     "output_type": "execute_result"
    }
   ],
   "source": [
    "# Calculate the distance between a position vector and another\n",
    "u = CVC(3, -2, -3, 7)\n",
    "v = CVC(2, -7, -2, 4)\n",
    "u.distance(v)"
   ]
  },
  {
   "cell_type": "code",
   "execution_count": 24,
   "metadata": {},
   "outputs": [
    {
     "data": {
      "text/plain": [
       "CVC(A=-0.8, B=0.0, C=0.0, D=0.6)"
      ]
     },
     "execution_count": 24,
     "metadata": {},
     "output_type": "execute_result"
    }
   ],
   "source": [
    "# Create a vector from the normalization of a vector\n",
    "# (i.e. a vector in the same direction with length equal cunit)\n",
    "u = CVC(-4, 0, 0, 3)\n",
    "u.normalize()"
   ]
  },
  {
   "cell_type": "code",
   "execution_count": 25,
   "metadata": {},
   "outputs": [
    {
     "data": {
      "text/plain": [
       "CVC(A=-0.0, B=-4.0, C=-2.0, D=8.0)"
      ]
     },
     "execution_count": 25,
     "metadata": {},
     "output_type": "execute_result"
    }
   ],
   "source": [
    "# Create a vector by projecting a vector onto another\n",
    "u = CVC(9, -9, 0, 6)\n",
    "v = CVC(0, 2, 1, -4)\n",
    "w = u.project(v)\n",
    "w"
   ]
  },
  {
   "cell_type": "code",
   "execution_count": 26,
   "metadata": {},
   "outputs": [
    {
     "data": {
      "text/plain": [
       "CVC(A=9.0, B=-9.0, C=-0.0, D=6.0)"
      ]
     },
     "execution_count": 26,
     "metadata": {},
     "output_type": "execute_result"
    }
   ],
   "source": [
    "# Create a vector from the inverse of the projection of a vector onto another\n",
    "w = CVC(-0, -4, -2, 8)\n",
    "v = CVC(-3, 3, 0, -2)\n",
    "u = w.inv_project(v)\n",
    "u"
   ]
  },
  {
   "cell_type": "code",
   "execution_count": 27,
   "metadata": {},
   "outputs": [
    {
     "data": {
      "text/plain": [
       "CVC(A=9.0, B=-5.0, C=2.0, D=-2.0)"
      ]
     },
     "execution_count": 27,
     "metadata": {},
     "output_type": "execute_result"
    }
   ],
   "source": [
    "# Create a vector by rejecting a vector from another\n",
    "u = CVC(9, -9, 0, 6)\n",
    "v = CVC(0, 2, 1, -4)\n",
    "u.reject(v)"
   ]
  },
  {
   "cell_type": "code",
   "execution_count": 28,
   "metadata": {},
   "outputs": [
    {
     "data": {
      "text/plain": [
       "-5.0"
      ]
     },
     "execution_count": 28,
     "metadata": {},
     "output_type": "execute_result"
    }
   ],
   "source": [
    "# Calculate the scalar projection of a vector onto another\n",
    "u = CVC(3, 0, 4, -1)\n",
    "v = CVC(-6, 0, -8, 0)\n",
    "u.scalar_project(v)"
   ]
  },
  {
   "cell_type": "code",
   "execution_count": 29,
   "metadata": {},
   "outputs": [
    {
     "data": {
      "text/plain": [
       "1.5707963267948963"
      ]
     },
     "execution_count": 29,
     "metadata": {},
     "output_type": "execute_result"
    }
   ],
   "source": [
    "# Calculate the smallest angle in radians between a vector and another\n",
    "u = CVC(4.5, -3.0, 0.0, -1.5)\n",
    "w = CVC(-3.0, -3.0, 0.0, -3.0)\n",
    "u.angle(w)  # = pi/2"
   ]
  },
  {
   "cell_type": "code",
   "execution_count": 30,
   "metadata": {},
   "outputs": [
    {
     "data": {
      "text/plain": [
       "-0.8164965809277259"
      ]
     },
     "execution_count": 30,
     "metadata": {},
     "output_type": "execute_result"
    }
   ],
   "source": [
    "# Calculate the cosine of the smallest angle between a vector and another\n",
    "u = CVC(-1, 0, 0, -1)\n",
    "v = CVC(2, 0, -2, 2)\n",
    "u.cos(v)  # = -(2/3)**0.5"
   ]
  },
  {
   "cell_type": "code",
   "execution_count": 31,
   "metadata": {},
   "outputs": [
    {
     "data": {
      "text/plain": [
       "[-1, -1, -1, 0, 1, 2, 2, 2]"
      ]
     },
     "execution_count": 31,
     "metadata": {},
     "output_type": "execute_result"
    }
   ],
   "source": [
    "# Limit the resulting value to be greater than or equal to s*cunit and smaller than or equal to t*cunit\n",
    "s = -1\n",
    "t = 2\n",
    "[\n",
    "    CVC.clip(i, s, t)\n",
    "    for i in [ -3, -2, -1, 0, 1, 2, 3, 4 ]\n",
    "]"
   ]
  },
  {
   "cell_type": "code",
   "execution_count": null,
   "metadata": {},
   "outputs": [],
   "source": []
  }
 ],
 "metadata": {
  "kernelspec": {
   "display_name": "Python 3",
   "language": "python",
   "name": "python3"
  },
  "language_info": {
   "codemirror_mode": {
    "name": "ipython",
    "version": 3
   },
   "file_extension": ".py",
   "mimetype": "text/x-python",
   "name": "python",
   "nbconvert_exporter": "python",
   "pygments_lexer": "ipython3",
   "version": "3.6.8"
  }
 },
 "nbformat": 4,
 "nbformat_minor": 2
}
