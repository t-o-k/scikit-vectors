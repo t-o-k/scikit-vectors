{
 "cells": [
  {
   "cell_type": "markdown",
   "metadata": {},
   "source": [
    "# Using a Simple Vector Class"
   ]
  },
  {
   "cell_type": "markdown",
   "metadata": {},
   "source": [
    "Copyright (c) 2019 Tor Olav Kristensen, http://subcube.com\n",
    "\n",
    "https://github.com/t-o-k/scikit-vectors\n",
    "\n",
    "Use of this source code is governed by a BSD-license that can be found in the LICENSE file."
   ]
  },
  {
   "cell_type": "code",
   "execution_count": 1,
   "metadata": {},
   "outputs": [],
   "source": [
    "from skvectors import create_class_Simple_Vector"
   ]
  },
  {
   "cell_type": "code",
   "execution_count": 2,
   "metadata": {
    "scrolled": false
   },
   "outputs": [],
   "source": [
    "# Create a 3-dimensional simple vector class\n",
    "\n",
    "# The first argument is a string with the name of the class\n",
    "# to be created.\n",
    "\n",
    "# The number of elements in the iterable given as the second\n",
    "# argument determines the number of dimensions for the class.\n",
    "\n",
    "SVC = create_class_Simple_Vector('VC', 'IJK')\n",
    "\n",
    "# Explicit alternative:\n",
    "# SVC = \\\n",
    "#     create_class_Simple_Vector(\n",
    "#         name = 'SVC',\n",
    "#         component_names = [ 'I', 'J', 'K' ],\n",
    "#         brackets = [ '<', '>' ],\n",
    "#         sep = ', '\n",
    "#     )"
   ]
  },
  {
   "cell_type": "code",
   "execution_count": 3,
   "metadata": {},
   "outputs": [],
   "source": [
    "# Create a vector by applying abs to the I-component of a vector\n",
    "v = SVC(-2, 3, -4)\n",
    "v.c_abs_I()"
   ]
  },
  {
   "cell_type": "code",
   "execution_count": 4,
   "metadata": {},
   "outputs": [],
   "source": [
    "# Create a vector by applying unary minus to the K-component of a vector\n",
    "v = SVC(2, 3, 4)\n",
    "v.c_neg_K()"
   ]
  },
  {
   "cell_type": "code",
   "execution_count": 5,
   "metadata": {},
   "outputs": [
    {
     "data": {
      "text/plain": [
       "VC(I=-2, J=-3, K=4)"
      ]
     },
     "execution_count": 5,
     "metadata": {},
     "output_type": "execute_result"
    }
   ],
   "source": [
    "# Create a vector by applying unary minus to all the components of a vector except the K-component\n",
    "v = SVC(2, 3, 4)\n",
    "v.c_neg_bar_K()"
   ]
  },
  {
   "cell_type": "code",
   "execution_count": 6,
   "metadata": {},
   "outputs": [
    {
     "data": {
      "text/plain": [
       "VC(I=2, J=3, K=4)"
      ]
     },
     "execution_count": 6,
     "metadata": {},
     "output_type": "execute_result"
    }
   ],
   "source": [
    "# Create a vector by applying unary plus to the J-component and the K-component of a vector\n",
    "v = SVC(2, 3, 4)\n",
    "v.c_pos_J_K()"
   ]
  },
  {
   "cell_type": "code",
   "execution_count": 59,
   "metadata": {},
   "outputs": [
    {
     "data": {
      "text/plain": [
       "VC(I=2, J=3, K=104)"
      ]
     },
     "execution_count": 59,
     "metadata": {},
     "output_type": "execute_result"
    }
   ],
   "source": [
    "# Create a vector by adding 100 to the K-component of a vector\n",
    "v = SVC(2, 3, 4)\n",
    "v.c_add_K(100)"
   ]
  },
  {
   "cell_type": "code",
   "execution_count": 60,
   "metadata": {},
   "outputs": [
    {
     "data": {
      "text/plain": [
       "VC(I=2, J=3, K=104)"
      ]
     },
     "execution_count": 60,
     "metadata": {},
     "output_type": "execute_result"
    }
   ],
   "source": [
    "# In-place addition of 100 to the K-component of a vector\n",
    "v = SVC(2, 3, 4)\n",
    "v.c_iadd_K(100)\n",
    "v"
   ]
  },
  {
   "cell_type": "code",
   "execution_count": 61,
   "metadata": {},
   "outputs": [
    {
     "data": {
      "text/plain": [
       "VC(I=2, J=0, K=4)"
      ]
     },
     "execution_count": 61,
     "metadata": {},
     "output_type": "execute_result"
    }
   ],
   "source": [
    "# Create a vector by subtracting 3 from the J-component of a vector\n",
    "v = SVC(2, 3, 4)\n",
    "v.c_sub_J(3)"
   ]
  },
  {
   "cell_type": "code",
   "execution_count": 62,
   "metadata": {},
   "outputs": [
    {
     "data": {
      "text/plain": [
       "VC(I=2, J=0, K=4)"
      ]
     },
     "execution_count": 62,
     "metadata": {},
     "output_type": "execute_result"
    }
   ],
   "source": [
    "# In-place subtraction of 3 from the J-component of a vector\n",
    "v = SVC(2, 3, 4)\n",
    "v.c_isub_J(3)\n",
    "v"
   ]
  },
  {
   "cell_type": "code",
   "execution_count": 11,
   "metadata": {},
   "outputs": [
    {
     "data": {
      "text/plain": [
       "VC(I=16, J=24, K=32)"
      ]
     },
     "execution_count": 11,
     "metadata": {},
     "output_type": "execute_result"
    }
   ],
   "source": [
    "# Create a vector by multiplying all the components of a vector except none by 8\n",
    "v = SVC(2, 3, 4)\n",
    "v.c_mul_bar(8)"
   ]
  },
  {
   "cell_type": "code",
   "execution_count": 12,
   "metadata": {},
   "outputs": [
    {
     "data": {
      "text/plain": [
       "VC(I=16, J=24, K=32)"
      ]
     },
     "execution_count": 12,
     "metadata": {},
     "output_type": "execute_result"
    }
   ],
   "source": [
    "# In-place multiplication of all the components of a vector except none by 8\n",
    "v = SVC(2, 3, 4)\n",
    "v.c_imul_bar(8)\n",
    "v"
   ]
  },
  {
   "cell_type": "code",
   "execution_count": 64,
   "metadata": {},
   "outputs": [
    {
     "data": {
      "text/plain": [
       "VC(I=1024, J=3, K=4)"
      ]
     },
     "execution_count": 64,
     "metadata": {},
     "output_type": "execute_result"
    }
   ],
   "source": [
    "# Create a vector by raising the I-component of a vector to the power of 10\n",
    "v = SVC(2, 3, 4)\n",
    "v.c_pow_I(10)"
   ]
  },
  {
   "cell_type": "code",
   "execution_count": 63,
   "metadata": {},
   "outputs": [
    {
     "data": {
      "text/plain": [
       "VC(I=1024, J=3, K=4)"
      ]
     },
     "execution_count": 63,
     "metadata": {},
     "output_type": "execute_result"
    }
   ],
   "source": [
    "# In-place raising the I-component of a vector to the power of 10\n",
    "v = SVC(2, 3, 4)\n",
    "v.c_ipow_I(10)\n",
    "v"
   ]
  },
  {
   "cell_type": "code",
   "execution_count": 15,
   "metadata": {},
   "outputs": [
    {
     "data": {
      "text/plain": [
       "VC(I=2, J=3, K=4)"
      ]
     },
     "execution_count": 15,
     "metadata": {},
     "output_type": "execute_result"
    }
   ],
   "source": [
    "# Create a vector by true dividing none of the components of a vector by 0\n",
    "v = SVC(2, 3, 4)\n",
    "v.c_truediv(0)"
   ]
  },
  {
   "cell_type": "code",
   "execution_count": 16,
   "metadata": {},
   "outputs": [
    {
     "data": {
      "text/plain": [
       "VC(I=0.2, J=0.3, K=0.4)"
      ]
     },
     "execution_count": 16,
     "metadata": {},
     "output_type": "execute_result"
    }
   ],
   "source": [
    "# In-place true division of all the components of a vector by 10\n",
    "v = SVC(2, 3, 4)\n",
    "v.c_itruediv_bar(10)\n",
    "v"
   ]
  },
  {
   "cell_type": "code",
   "execution_count": 17,
   "metadata": {},
   "outputs": [
    {
     "data": {
      "text/plain": [
       "VC(I=1, J=1, K=2)"
      ]
     },
     "execution_count": 17,
     "metadata": {},
     "output_type": "execute_result"
    }
   ],
   "source": [
    "# Create a vector by floor dividing all the components of a vector by 2\n",
    "v = SVC(2, 3, 4)\n",
    "v.c_floordiv_I_J_K(2)"
   ]
  },
  {
   "cell_type": "code",
   "execution_count": 65,
   "metadata": {},
   "outputs": [
    {
     "data": {
      "text/plain": [
       "VC(I=1, J=1, K=2)"
      ]
     },
     "execution_count": 65,
     "metadata": {},
     "output_type": "execute_result"
    }
   ],
   "source": [
    "# In-place floor division of all the components of a vector by 2\n",
    "v = SVC(2, 3, 4)\n",
    "v.c_ifloordiv_I_J_K(2)\n",
    "v"
   ]
  },
  {
   "cell_type": "code",
   "execution_count": 66,
   "metadata": {},
   "outputs": [
    {
     "data": {
      "text/plain": [
       "VC(I=0, J=1, K=0)"
      ]
     },
     "execution_count": 66,
     "metadata": {},
     "output_type": "execute_result"
    }
   ],
   "source": [
    "# Create a vector by applying modulus to all the components of a vector and 2\n",
    "v = SVC(2, 3, 4)\n",
    "v.c_mod_I_J_K(2)"
   ]
  },
  {
   "cell_type": "code",
   "execution_count": 67,
   "metadata": {},
   "outputs": [
    {
     "data": {
      "text/plain": [
       "VC(I=0, J=1, K=0)"
      ]
     },
     "execution_count": 67,
     "metadata": {},
     "output_type": "execute_result"
    }
   ],
   "source": [
    "# In-place application of modulus to all the components of a vector and 2\n",
    "v = SVC(2, 3, 4)\n",
    "v.c_imod_I_J_K(2)\n",
    "v"
   ]
  },
  {
   "cell_type": "code",
   "execution_count": 68,
   "metadata": {
    "scrolled": false
   },
   "outputs": [
    {
     "data": {
      "text/plain": [
       "VC(I=2, J=4, K=600)"
      ]
     },
     "execution_count": 68,
     "metadata": {},
     "output_type": "execute_result"
    }
   ],
   "source": [
    "# Create a vector by multiplying the K-component of a vector by 100\n",
    "v = SVC(2, 4, 6)\n",
    "v.c_mul_K(100)"
   ]
  },
  {
   "cell_type": "code",
   "execution_count": 69,
   "metadata": {
    "scrolled": false
   },
   "outputs": [
    {
     "data": {
      "text/plain": [
       "VC(I=2, J=4, K=600)"
      ]
     },
     "execution_count": 69,
     "metadata": {},
     "output_type": "execute_result"
    }
   ],
   "source": [
    "# In-place multiplication of the K-component of a vector by 100\n",
    "v = SVC(2, 4, 6)\n",
    "v.c_imul_K(100)\n",
    "v"
   ]
  },
  {
   "cell_type": "code",
   "execution_count": 70,
   "metadata": {},
   "outputs": [
    {
     "data": {
      "text/plain": [
       "VC(I=-92080, J=8008, K=-128)"
      ]
     },
     "execution_count": 70,
     "metadata": {},
     "output_type": "execute_result"
    }
   ],
   "source": [
    "# Create a vector by applying several operations to the components of vectors\n",
    "v = SVC(2, 3, 4)\n",
    "f = v.c_mul_K\n",
    "f(10).c_add_bar(88).c_mul_I_J(88).c_sub_bar_J_K(100000).c_neg_K()"
   ]
  },
  {
   "cell_type": "code",
   "execution_count": 71,
   "metadata": {},
   "outputs": [
    {
     "data": {
      "text/plain": [
       "VC(I=2.222, J=4.444, K=6.667)"
      ]
     },
     "execution_count": 71,
     "metadata": {},
     "output_type": "execute_result"
    }
   ],
   "source": [
    "# Create a vector by rounding the components of a vector to 3 decimals\n",
    "v = SVC(2.22222, 4.44444, 6.66666)\n",
    "round(v, ndigits=3)"
   ]
  },
  {
   "cell_type": "code",
   "execution_count": 72,
   "metadata": {},
   "outputs": [
    {
     "data": {
      "text/plain": [
       "VC(I=2.0, J=4.0, K=7.0)"
      ]
     },
     "execution_count": 72,
     "metadata": {},
     "output_type": "execute_result"
    }
   ],
   "source": [
    "# Create a vector by rounding the components of a vector to integer value\n",
    "v = SVC(2.222, 4.444, 6.666)\n",
    "round(v)"
   ]
  },
  {
   "cell_type": "code",
   "execution_count": 73,
   "metadata": {},
   "outputs": [
    {
     "data": {
      "text/plain": [
       "VC(I=-55560000.0, J=-33330000.0, K=55560000.0)"
      ]
     },
     "execution_count": 73,
     "metadata": {},
     "output_type": "execute_result"
    }
   ],
   "source": [
    "# Create a vector by rounding the components of a vector\n",
    "v = SVC(-55555555.5, -33333333.3, 55555555.5)\n",
    "round(v, -4)"
   ]
  },
  {
   "cell_type": "code",
   "execution_count": 74,
   "metadata": {},
   "outputs": [
    {
     "data": {
      "text/plain": [
       "VC(I=3, J=-4, K=-5)"
      ]
     },
     "execution_count": 74,
     "metadata": {},
     "output_type": "execute_result"
    }
   ],
   "source": [
    "# Create a vector by applying unary minus to a vector\n",
    "v = SVC(-3, 4, 5)\n",
    "-v"
   ]
  },
  {
   "cell_type": "code",
   "execution_count": 75,
   "metadata": {},
   "outputs": [
    {
     "data": {
      "text/plain": [
       "VC(I=-3, J=4, K=5)"
      ]
     },
     "execution_count": 75,
     "metadata": {},
     "output_type": "execute_result"
    }
   ],
   "source": [
    "# Create a vector by applying unary plus to a vector\n",
    "v = SVC(-3, 4, 5)\n",
    "+v"
   ]
  },
  {
   "cell_type": "code",
   "execution_count": 76,
   "metadata": {},
   "outputs": [
    {
     "data": {
      "text/plain": [
       "VC(I=-2, J=5, K=4)"
      ]
     },
     "execution_count": 76,
     "metadata": {},
     "output_type": "execute_result"
    }
   ],
   "source": [
    "# Create a vector by adding a vector to another\n",
    "u = SVC(-3, 4, 5)\n",
    "v = SVC(1, 1, -1)\n",
    "u + v "
   ]
  },
  {
   "cell_type": "code",
   "execution_count": 77,
   "metadata": {},
   "outputs": [
    {
     "data": {
      "text/plain": [
       "VC(I=-2, J=5, K=4)"
      ]
     },
     "execution_count": 77,
     "metadata": {},
     "output_type": "execute_result"
    }
   ],
   "source": [
    "# In-place addition of a vector to another\n",
    "u = SVC(-3, 4, 5)\n",
    "v = SVC(1, 1, -1)\n",
    "u += v\n",
    "u"
   ]
  },
  {
   "cell_type": "code",
   "execution_count": 78,
   "metadata": {},
   "outputs": [
    {
     "data": {
      "text/plain": [
       "VC(I=-4, J=3, K=6)"
      ]
     },
     "execution_count": 78,
     "metadata": {},
     "output_type": "execute_result"
    }
   ],
   "source": [
    "# Create a vector by subtracting a vector from another\n",
    "u = SVC(-3, 4, 5)\n",
    "v = SVC(1, 1, -1)\n",
    "u - v"
   ]
  },
  {
   "cell_type": "code",
   "execution_count": 79,
   "metadata": {},
   "outputs": [
    {
     "data": {
      "text/plain": [
       "VC(I=-4, J=3, K=6)"
      ]
     },
     "execution_count": 79,
     "metadata": {},
     "output_type": "execute_result"
    }
   ],
   "source": [
    "# In-place subtraction of a vector from another\n",
    "u = SVC(-3, 4, 5)\n",
    "v = SVC(1, 1, -1)\n",
    "u -= v\n",
    "u"
   ]
  },
  {
   "cell_type": "code",
   "execution_count": 80,
   "metadata": {},
   "outputs": [
    {
     "data": {
      "text/plain": [
       "VC(I=-2, J=0, K=-6)"
      ]
     },
     "execution_count": 80,
     "metadata": {},
     "output_type": "execute_result"
    }
   ],
   "source": [
    "# Create a vector by multiplying a vector by another\n",
    "u = SVC(-1, 2, 3)\n",
    "v = SVC(2, 0, -2)\n",
    "u * v"
   ]
  },
  {
   "cell_type": "code",
   "execution_count": 81,
   "metadata": {},
   "outputs": [
    {
     "data": {
      "text/plain": [
       "VC(I=-2, J=0, K=-6)"
      ]
     },
     "execution_count": 81,
     "metadata": {},
     "output_type": "execute_result"
    }
   ],
   "source": [
    "# In-place multiplication of a vector by another\n",
    "u = SVC(-1, 2, 3)\n",
    "v = SVC(2, 0, -2)\n",
    "u *= v\n",
    "u"
   ]
  },
  {
   "cell_type": "code",
   "execution_count": 82,
   "metadata": {},
   "outputs": [
    {
     "data": {
      "text/plain": [
       "(VC(I=-2, J=4, K=6), VC(I=-2, J=4, K=6))"
      ]
     },
     "execution_count": 82,
     "metadata": {},
     "output_type": "execute_result"
    }
   ],
   "source": [
    "# Create a vector by multiplying a vector and a scalar\n",
    "v = SVC(-1, 2, 3)\n",
    "s = 2\n",
    "s * v, v * s"
   ]
  },
  {
   "cell_type": "code",
   "execution_count": 83,
   "metadata": {},
   "outputs": [
    {
     "data": {
      "text/plain": [
       "VC(I=-2, J=4, K=6)"
      ]
     },
     "execution_count": 83,
     "metadata": {},
     "output_type": "execute_result"
    }
   ],
   "source": [
    "# In-place multiplication of a vector by a scalar\n",
    "v = SVC(-1, 2, 3)\n",
    "s = 2\n",
    "v *= s\n",
    "v"
   ]
  },
  {
   "cell_type": "code",
   "execution_count": 84,
   "metadata": {},
   "outputs": [
    {
     "data": {
      "text/plain": [
       "VC(I=-1.5, J=-2.0, K=3.0)"
      ]
     },
     "execution_count": 84,
     "metadata": {},
     "output_type": "execute_result"
    }
   ],
   "source": [
    "# Create a vector by dividing a vector by another\n",
    "u = SVC(-3, 4, 6)\n",
    "v = SVC(2, -2, 2)\n",
    "u / v"
   ]
  },
  {
   "cell_type": "code",
   "execution_count": 85,
   "metadata": {},
   "outputs": [
    {
     "data": {
      "text/plain": [
       "VC(I=-1.5, J=-2.0, K=3.0)"
      ]
     },
     "execution_count": 85,
     "metadata": {},
     "output_type": "execute_result"
    }
   ],
   "source": [
    "# In-place true division of a vector by another\n",
    "u = SVC(-3, 4, 6)\n",
    "v = SVC(2, -2, 2)\n",
    "u /= v\n",
    "u"
   ]
  },
  {
   "cell_type": "code",
   "execution_count": 86,
   "metadata": {},
   "outputs": [
    {
     "data": {
      "text/plain": [
       "VC(I=-0.5, J=0.6666666666666666, K=1.0)"
      ]
     },
     "execution_count": 86,
     "metadata": {},
     "output_type": "execute_result"
    }
   ],
   "source": [
    "# Create a vector by true dividing a vector by a scalar\n",
    "v = SVC(-3, 4, 6)\n",
    "s = 6\n",
    "v / s"
   ]
  },
  {
   "cell_type": "code",
   "execution_count": 88,
   "metadata": {},
   "outputs": [
    {
     "data": {
      "text/plain": [
       "VC(I=-1.5, J=2.0, K=3.0)"
      ]
     },
     "execution_count": 88,
     "metadata": {},
     "output_type": "execute_result"
    }
   ],
   "source": [
    "# In-place true division of a vector by a scalar\n",
    "v = SVC(-3, 4, 6)\n",
    "s = 2\n",
    "v /= s\n",
    "v"
   ]
  },
  {
   "cell_type": "code",
   "execution_count": 89,
   "metadata": {},
   "outputs": [
    {
     "data": {
      "text/plain": [
       "VC(I=9, J=0.0625, K=36)"
      ]
     },
     "execution_count": 89,
     "metadata": {},
     "output_type": "execute_result"
    }
   ],
   "source": [
    "# Create a vector by raising a vector to the power of another\n",
    "u = SVC(-3, 4, 6)\n",
    "v = SVC(2, -2, 2)\n",
    "u**v"
   ]
  },
  {
   "cell_type": "code",
   "execution_count": 90,
   "metadata": {},
   "outputs": [
    {
     "data": {
      "text/plain": [
       "VC(I=9, J=0.0625, K=36)"
      ]
     },
     "execution_count": 90,
     "metadata": {},
     "output_type": "execute_result"
    }
   ],
   "source": [
    "# In-place raising a vector to the power of vector\n",
    "u = SVC(-3, 4, 6)\n",
    "v = SVC(2, -2, 2)\n",
    "u **= v\n",
    "u"
   ]
  },
  {
   "cell_type": "code",
   "execution_count": 91,
   "metadata": {},
   "outputs": [
    {
     "data": {
      "text/plain": [
       "VC(I=9, J=25, K=36)"
      ]
     },
     "execution_count": 91,
     "metadata": {},
     "output_type": "execute_result"
    }
   ],
   "source": [
    "# Create a vector by raising a vector to the power of a scalar\n",
    "v = SVC(-3, 5, 6)\n",
    "s = 2\n",
    "v**s"
   ]
  },
  {
   "cell_type": "code",
   "execution_count": 92,
   "metadata": {},
   "outputs": [
    {
     "data": {
      "text/plain": [
       "VC(I=9, J=25, K=36)"
      ]
     },
     "execution_count": 92,
     "metadata": {},
     "output_type": "execute_result"
    }
   ],
   "source": [
    "# In-place raising a vector to the power of a scalar\n",
    "v = SVC(-3, 5, 6)\n",
    "s = 2\n",
    "v **= s\n",
    "v"
   ]
  },
  {
   "cell_type": "code",
   "execution_count": 93,
   "metadata": {},
   "outputs": [
    {
     "data": {
      "text/plain": [
       "VC(I=-2, J=-3, K=3)"
      ]
     },
     "execution_count": 93,
     "metadata": {},
     "output_type": "execute_result"
    }
   ],
   "source": [
    "# Create a vector by floor dividing a vector by another\n",
    "u = SVC(-3, 5, 6)\n",
    "v = SVC(2, -2, 2)\n",
    "u // v"
   ]
  },
  {
   "cell_type": "code",
   "execution_count": 94,
   "metadata": {},
   "outputs": [
    {
     "data": {
      "text/plain": [
       "VC(I=-2, J=-3, K=3)"
      ]
     },
     "execution_count": 94,
     "metadata": {},
     "output_type": "execute_result"
    }
   ],
   "source": [
    "# In-place floor division of a vector by another\n",
    "u = SVC(-3, 5, 6)\n",
    "v = SVC(2, -2, 2)\n",
    "u //= v\n",
    "u"
   ]
  },
  {
   "cell_type": "code",
   "execution_count": 95,
   "metadata": {},
   "outputs": [
    {
     "data": {
      "text/plain": [
       "VC(I=-2, J=2, K=3)"
      ]
     },
     "execution_count": 95,
     "metadata": {},
     "output_type": "execute_result"
    }
   ],
   "source": [
    "# Create a vector by floor dividing a vector by a scalar\n",
    "v = SVC(-3, 5, 6)\n",
    "s = 2\n",
    "v // s"
   ]
  },
  {
   "cell_type": "code",
   "execution_count": 97,
   "metadata": {},
   "outputs": [
    {
     "data": {
      "text/plain": [
       "VC(I=-2, J=2, K=3)"
      ]
     },
     "execution_count": 97,
     "metadata": {},
     "output_type": "execute_result"
    }
   ],
   "source": [
    "# In-place floor division of a vector and a scalar\n",
    "v = SVC(-3, 5, 6)\n",
    "s = 2\n",
    "v //= s\n",
    "v"
   ]
  },
  {
   "cell_type": "code",
   "execution_count": 98,
   "metadata": {},
   "outputs": [
    {
     "data": {
      "text/plain": [
       "VC(I=1, J=-1, K=0)"
      ]
     },
     "execution_count": 98,
     "metadata": {},
     "output_type": "execute_result"
    }
   ],
   "source": [
    "# Create a vector by applying modulus to a vector and another\n",
    "u = SVC(-3, 5, 6)\n",
    "v = SVC(2, -2, 2)\n",
    "u % v"
   ]
  },
  {
   "cell_type": "code",
   "execution_count": 99,
   "metadata": {},
   "outputs": [
    {
     "data": {
      "text/plain": [
       "VC(I=1, J=-1, K=0)"
      ]
     },
     "execution_count": 99,
     "metadata": {},
     "output_type": "execute_result"
    }
   ],
   "source": [
    "# In-place application of modulus to a vector and another\n",
    "u = SVC(-3, 5, 6)\n",
    "v = SVC(2, -2, 2)\n",
    "u %= v\n",
    "u"
   ]
  },
  {
   "cell_type": "code",
   "execution_count": 102,
   "metadata": {},
   "outputs": [
    {
     "data": {
      "text/plain": [
       "VC(I=1, J=1, K=0)"
      ]
     },
     "execution_count": 102,
     "metadata": {},
     "output_type": "execute_result"
    }
   ],
   "source": [
    "# Create a vector by applying modulus to a vector and a scalar\n",
    "v = SVC(-3, 5, 6)\n",
    "s = 2\n",
    "v % s"
   ]
  },
  {
   "cell_type": "code",
   "execution_count": 103,
   "metadata": {},
   "outputs": [
    {
     "data": {
      "text/plain": [
       "VC(I=1, J=1, K=0)"
      ]
     },
     "execution_count": 103,
     "metadata": {},
     "output_type": "execute_result"
    }
   ],
   "source": [
    "# In-place application of modulus to a vector and a scalar\n",
    "v = SVC(-3, 5, 6)\n",
    "s = 2\n",
    "v %= s\n",
    "v"
   ]
  },
  {
   "cell_type": "code",
   "execution_count": null,
   "metadata": {},
   "outputs": [],
   "source": []
  }
 ],
 "metadata": {
  "kernelspec": {
   "display_name": "Python 3",
   "language": "python",
   "name": "python3"
  },
  "language_info": {
   "codemirror_mode": {
    "name": "ipython",
    "version": 3
   },
   "file_extension": ".py",
   "mimetype": "text/x-python",
   "name": "python",
   "nbconvert_exporter": "python",
   "pygments_lexer": "ipython3",
   "version": "3.6.7"
  }
 },
 "nbformat": 4,
 "nbformat_minor": 2
}
