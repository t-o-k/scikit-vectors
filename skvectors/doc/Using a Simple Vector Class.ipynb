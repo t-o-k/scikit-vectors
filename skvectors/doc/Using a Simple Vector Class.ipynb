{
 "cells": [
  {
   "cell_type": "markdown",
   "metadata": {},
   "source": [
    "# Using a Simple Vector Class"
   ]
  },
  {
   "cell_type": "markdown",
   "metadata": {},
   "source": [
    "Copyright (c) 2019 Tor Olav Kristensen, http://subcube.com\n",
    "\n",
    "https://github.com/t-o-k/scikit-vectors\n",
    "\n",
    "Use of this source code is governed by a BSD-license that can be found in the LICENSE file."
   ]
  },
  {
   "cell_type": "code",
   "execution_count": 1,
   "metadata": {},
   "outputs": [],
   "source": [
    "from skvectors import create_class_Simple_Vector"
   ]
  },
  {
   "cell_type": "code",
   "execution_count": 2,
   "metadata": {
    "scrolled": false
   },
   "outputs": [],
   "source": [
    "# Create a 3-dimensional simple vector class\n",
    "\n",
    "# The first argument is a string with the name of the class\n",
    "# to be created.\n",
    "\n",
    "# The number of elements in the iterable given as the second\n",
    "# argument determines the number of dimensions for the class.\n",
    "\n",
    "SVC = create_class_Simple_Vector('VC', 'IJK')\n",
    "\n",
    "# Explicit alternative:\n",
    "# SVC = \\\n",
    "#     create_class_Simple_Vector(\n",
    "#         name = 'SVC',\n",
    "#         component_names = [ 'I', 'J', 'K' ],\n",
    "#         brackets = [ '<', '>' ],\n",
    "#         sep = ', '\n",
    "#     )"
   ]
  },
  {
   "cell_type": "code",
   "execution_count": 3,
   "metadata": {},
   "outputs": [
    {
     "data": {
      "text/plain": [
       "VC(I=2, J=3, K=-4)"
      ]
     },
     "execution_count": 3,
     "metadata": {},
     "output_type": "execute_result"
    }
   ],
   "source": [
    "# Apply abs to the I-component\n",
    "v = SVC(-2, 3, -4)\n",
    "v.c_abs_I()"
   ]
  },
  {
   "cell_type": "code",
   "execution_count": 4,
   "metadata": {},
   "outputs": [
    {
     "data": {
      "text/plain": [
       "VC(I=2, J=3, K=-4)"
      ]
     },
     "execution_count": 4,
     "metadata": {},
     "output_type": "execute_result"
    }
   ],
   "source": [
    "# Apply unary minus to the K-component\n",
    "v = SVC(2, 3, 4)\n",
    "v.c_neg_K()"
   ]
  },
  {
   "cell_type": "code",
   "execution_count": 5,
   "metadata": {},
   "outputs": [
    {
     "data": {
      "text/plain": [
       "VC(I=-2, J=-3, K=4)"
      ]
     },
     "execution_count": 5,
     "metadata": {},
     "output_type": "execute_result"
    }
   ],
   "source": [
    "# Apply unary minus to all components except the K-component\n",
    "v = SVC(2, 3, 4)\n",
    "v.c_neg_bar_K()"
   ]
  },
  {
   "cell_type": "code",
   "execution_count": 6,
   "metadata": {},
   "outputs": [
    {
     "data": {
      "text/plain": [
       "VC(I=2, J=3, K=4)"
      ]
     },
     "execution_count": 6,
     "metadata": {},
     "output_type": "execute_result"
    }
   ],
   "source": [
    "# Apply unary plus to the J-component and the K-component\n",
    "v = SVC(2, 3, 4)\n",
    "v.c_pos_J_K()"
   ]
  },
  {
   "cell_type": "code",
   "execution_count": 7,
   "metadata": {},
   "outputs": [
    {
     "data": {
      "text/plain": [
       "VC(I=2, J=3, K=104)"
      ]
     },
     "execution_count": 7,
     "metadata": {},
     "output_type": "execute_result"
    }
   ],
   "source": [
    "# Add 100 to the K-component\n",
    "v = SVC(2, 3, 4)\n",
    "v.c_add_K(100)"
   ]
  },
  {
   "cell_type": "code",
   "execution_count": 8,
   "metadata": {},
   "outputs": [
    {
     "data": {
      "text/plain": [
       "VC(I=2, J=3, K=104)"
      ]
     },
     "execution_count": 8,
     "metadata": {},
     "output_type": "execute_result"
    }
   ],
   "source": [
    "# Add 100 in-place to the K-component\n",
    "v = SVC(2, 3, 4)\n",
    "v.c_iadd_K(100)\n",
    "v"
   ]
  },
  {
   "cell_type": "code",
   "execution_count": 9,
   "metadata": {},
   "outputs": [
    {
     "data": {
      "text/plain": [
       "VC(I=2, J=0, K=4)"
      ]
     },
     "execution_count": 9,
     "metadata": {},
     "output_type": "execute_result"
    }
   ],
   "source": [
    "# Subtract 3 from the J-component\n",
    "v = SVC(2, 3, 4)\n",
    "v.c_sub_J(3)"
   ]
  },
  {
   "cell_type": "code",
   "execution_count": 10,
   "metadata": {},
   "outputs": [
    {
     "data": {
      "text/plain": [
       "VC(I=2, J=0, K=4)"
      ]
     },
     "execution_count": 10,
     "metadata": {},
     "output_type": "execute_result"
    }
   ],
   "source": [
    "# Subtract 3 in-place from the J-component\n",
    "v = SVC(2, 3, 4)\n",
    "v.c_isub_J(3)\n",
    "v"
   ]
  },
  {
   "cell_type": "code",
   "execution_count": 11,
   "metadata": {},
   "outputs": [
    {
     "data": {
      "text/plain": [
       "VC(I=16, J=24, K=32)"
      ]
     },
     "execution_count": 11,
     "metadata": {},
     "output_type": "execute_result"
    }
   ],
   "source": [
    "# Multiply all components except none by 8\n",
    "v = SVC(2, 3, 4)\n",
    "v.c_mul_bar(8)"
   ]
  },
  {
   "cell_type": "code",
   "execution_count": 12,
   "metadata": {},
   "outputs": [
    {
     "data": {
      "text/plain": [
       "VC(I=16, J=24, K=32)"
      ]
     },
     "execution_count": 12,
     "metadata": {},
     "output_type": "execute_result"
    }
   ],
   "source": [
    "# Multiply in-place all components except none by 8\n",
    "v = SVC(2, 3, 4)\n",
    "v.c_imul_bar(8)\n",
    "v"
   ]
  },
  {
   "cell_type": "code",
   "execution_count": 13,
   "metadata": {},
   "outputs": [
    {
     "data": {
      "text/plain": [
       "VC(I=1024, J=3, K=4)"
      ]
     },
     "execution_count": 13,
     "metadata": {},
     "output_type": "execute_result"
    }
   ],
   "source": [
    "# Raise the I-component to the power of 10\n",
    "v = SVC(2, 3, 4)\n",
    "v.c_pow_I(10)"
   ]
  },
  {
   "cell_type": "code",
   "execution_count": 14,
   "metadata": {},
   "outputs": [
    {
     "data": {
      "text/plain": [
       "VC(I=1024, J=3, K=4)"
      ]
     },
     "execution_count": 14,
     "metadata": {},
     "output_type": "execute_result"
    }
   ],
   "source": [
    "# Raise in-place the I-component to the power of 10\n",
    "v = SVC(2, 3, 4)\n",
    "v.c_ipow_I(10)\n",
    "v"
   ]
  },
  {
   "cell_type": "code",
   "execution_count": 15,
   "metadata": {},
   "outputs": [
    {
     "data": {
      "text/plain": [
       "VC(I=2, J=3, K=4)"
      ]
     },
     "execution_count": 15,
     "metadata": {},
     "output_type": "execute_result"
    }
   ],
   "source": [
    "# True divide none of the components by 0\n",
    "v = SVC(2, 3, 4)\n",
    "v.c_truediv(0)"
   ]
  },
  {
   "cell_type": "code",
   "execution_count": 16,
   "metadata": {},
   "outputs": [
    {
     "data": {
      "text/plain": [
       "VC(I=0.2, J=0.3, K=0.4)"
      ]
     },
     "execution_count": 16,
     "metadata": {},
     "output_type": "execute_result"
    }
   ],
   "source": [
    "# True divide in-place all of the components by 10\n",
    "v = SVC(2, 3, 4)\n",
    "v.c_itruediv_bar(10)\n",
    "v"
   ]
  },
  {
   "cell_type": "code",
   "execution_count": 17,
   "metadata": {},
   "outputs": [
    {
     "data": {
      "text/plain": [
       "VC(I=1, J=1, K=2)"
      ]
     },
     "execution_count": 17,
     "metadata": {},
     "output_type": "execute_result"
    }
   ],
   "source": [
    "# Floor divide of all of the components by 2\n",
    "v = SVC(2, 3, 4)\n",
    "v.c_floordiv_I_J_K(2)"
   ]
  },
  {
   "cell_type": "code",
   "execution_count": 18,
   "metadata": {},
   "outputs": [
    {
     "data": {
      "text/plain": [
       "VC(I=1, J=1, K=2)"
      ]
     },
     "execution_count": 18,
     "metadata": {},
     "output_type": "execute_result"
    }
   ],
   "source": [
    "# Floor divide in-place all of the components by 2\n",
    "v = SVC(2, 3, 4)\n",
    "v.c_ifloordiv_I_J_K(2)\n",
    "v"
   ]
  },
  {
   "cell_type": "code",
   "execution_count": 19,
   "metadata": {},
   "outputs": [
    {
     "data": {
      "text/plain": [
       "VC(I=0, J=1, K=0)"
      ]
     },
     "execution_count": 19,
     "metadata": {},
     "output_type": "execute_result"
    }
   ],
   "source": [
    "# Modulus of all of the components by 2\n",
    "v = SVC(2, 3, 4)\n",
    "v.c_mod_I_J_K(2)"
   ]
  },
  {
   "cell_type": "code",
   "execution_count": 20,
   "metadata": {},
   "outputs": [
    {
     "data": {
      "text/plain": [
       "VC(I=0, J=1, K=0)"
      ]
     },
     "execution_count": 20,
     "metadata": {},
     "output_type": "execute_result"
    }
   ],
   "source": [
    "# Modulus in-place of all of the components by 2\n",
    "v = SVC(2, 3, 4)\n",
    "v.c_imod_I_J_K(2)\n",
    "v"
   ]
  },
  {
   "cell_type": "code",
   "execution_count": 21,
   "metadata": {
    "scrolled": false
   },
   "outputs": [
    {
     "data": {
      "text/plain": [
       "VC(I=2, J=4, K=600)"
      ]
     },
     "execution_count": 21,
     "metadata": {},
     "output_type": "execute_result"
    }
   ],
   "source": [
    "# Multiply the K-component by 100\n",
    "v = SVC(2, 4, 6)\n",
    "v.c_mul_K(100)"
   ]
  },
  {
   "cell_type": "code",
   "execution_count": 22,
   "metadata": {
    "scrolled": false
   },
   "outputs": [
    {
     "data": {
      "text/plain": [
       "VC(I=2, J=4, K=600)"
      ]
     },
     "execution_count": 22,
     "metadata": {},
     "output_type": "execute_result"
    }
   ],
   "source": [
    "# Multiply in-place the K-component by 100\n",
    "v = SVC(2, 4, 6)\n",
    "v.c_imul_K(100)\n",
    "v"
   ]
  },
  {
   "cell_type": "code",
   "execution_count": 23,
   "metadata": {},
   "outputs": [
    {
     "data": {
      "text/plain": [
       "VC(I=-92080, J=8008, K=-128)"
      ]
     },
     "execution_count": 23,
     "metadata": {},
     "output_type": "execute_result"
    }
   ],
   "source": [
    "# Apply several operations to the components\n",
    "v = SVC(2, 3, 4)\n",
    "f = v.c_mul_K\n",
    "f(10).c_add_bar(88).c_mul_I_J(88).c_sub_bar_J_K(100000).c_neg_K()"
   ]
  },
  {
   "cell_type": "code",
   "execution_count": 24,
   "metadata": {},
   "outputs": [
    {
     "data": {
      "text/plain": [
       "VC(I=2.222, J=4.444, K=6.667)"
      ]
     },
     "execution_count": 24,
     "metadata": {},
     "output_type": "execute_result"
    }
   ],
   "source": [
    "# Round components to 3 decimals\n",
    "v = SVC(2.22222, 4.444444, 6.6666666)\n",
    "round(v, ndigits=3)"
   ]
  },
  {
   "cell_type": "code",
   "execution_count": 25,
   "metadata": {},
   "outputs": [
    {
     "data": {
      "text/plain": [
       "VC(I=2.0, J=4.0, K=7.0)"
      ]
     },
     "execution_count": 25,
     "metadata": {},
     "output_type": "execute_result"
    }
   ],
   "source": [
    "# Round components to integer value\n",
    "v = SVC(2.22222, 4.444444, 6.6666666)\n",
    "round(v)"
   ]
  },
  {
   "cell_type": "code",
   "execution_count": 26,
   "metadata": {},
   "outputs": [
    {
     "data": {
      "text/plain": [
       "VC(I=-55560000.0, J=-33330000.0, K=55560000.0)"
      ]
     },
     "execution_count": 26,
     "metadata": {},
     "output_type": "execute_result"
    }
   ],
   "source": [
    "# Round component values\n",
    "v = SVC(-55555555.5, -33333333.3, 55555555.5)\n",
    "round(v, -4)"
   ]
  },
  {
   "cell_type": "code",
   "execution_count": 27,
   "metadata": {},
   "outputs": [
    {
     "data": {
      "text/plain": [
       "VC(I=3, J=-4, K=-5)"
      ]
     },
     "execution_count": 27,
     "metadata": {},
     "output_type": "execute_result"
    }
   ],
   "source": [
    "# Apply unary minus to vector\n",
    "v = SVC(-3, 4, 5)\n",
    "-v"
   ]
  },
  {
   "cell_type": "code",
   "execution_count": 28,
   "metadata": {},
   "outputs": [
    {
     "data": {
      "text/plain": [
       "VC(I=-3, J=4, K=5)"
      ]
     },
     "execution_count": 28,
     "metadata": {},
     "output_type": "execute_result"
    }
   ],
   "source": [
    "# Apply unary plus to vector\n",
    "v = SVC(-3, 4, 5)\n",
    "+v"
   ]
  },
  {
   "cell_type": "code",
   "execution_count": 29,
   "metadata": {},
   "outputs": [
    {
     "data": {
      "text/plain": [
       "VC(I=-2, J=5, K=4)"
      ]
     },
     "execution_count": 29,
     "metadata": {},
     "output_type": "execute_result"
    }
   ],
   "source": [
    "# Addition of vectors\n",
    "v = SVC(-3, 4, 5)\n",
    "v + SVC(1, 1, -1)"
   ]
  },
  {
   "cell_type": "code",
   "execution_count": 30,
   "metadata": {},
   "outputs": [
    {
     "data": {
      "text/plain": [
       "VC(I=-2, J=5, K=4)"
      ]
     },
     "execution_count": 30,
     "metadata": {},
     "output_type": "execute_result"
    }
   ],
   "source": [
    "# In-place addition of vectors\n",
    "v = SVC(-3, 4, 5)\n",
    "v += SVC(1, 1, -1)\n",
    "v"
   ]
  },
  {
   "cell_type": "code",
   "execution_count": 31,
   "metadata": {},
   "outputs": [
    {
     "data": {
      "text/plain": [
       "VC(I=-4, J=3, K=6)"
      ]
     },
     "execution_count": 31,
     "metadata": {},
     "output_type": "execute_result"
    }
   ],
   "source": [
    "# Subtraction of vectors\n",
    "v = SVC(-3, 4, 5)\n",
    "v - SVC(1, 1, -1)"
   ]
  },
  {
   "cell_type": "code",
   "execution_count": 32,
   "metadata": {},
   "outputs": [
    {
     "data": {
      "text/plain": [
       "VC(I=-4, J=3, K=6)"
      ]
     },
     "execution_count": 32,
     "metadata": {},
     "output_type": "execute_result"
    }
   ],
   "source": [
    "# In-place subtraction of vectors\n",
    "v = SVC(-3, 4, 5)\n",
    "v -= SVC(1, 1, -1)\n",
    "v"
   ]
  },
  {
   "cell_type": "code",
   "execution_count": 33,
   "metadata": {},
   "outputs": [
    {
     "data": {
      "text/plain": [
       "VC(I=-2, J=0, K=-6)"
      ]
     },
     "execution_count": 33,
     "metadata": {},
     "output_type": "execute_result"
    }
   ],
   "source": [
    "# Multiplication of vectors\n",
    "v = SVC(-1, 2, 3)\n",
    "v * SVC(2, 0, -2)"
   ]
  },
  {
   "cell_type": "code",
   "execution_count": 34,
   "metadata": {},
   "outputs": [
    {
     "data": {
      "text/plain": [
       "VC(I=-2, J=0, K=-6)"
      ]
     },
     "execution_count": 34,
     "metadata": {},
     "output_type": "execute_result"
    }
   ],
   "source": [
    "# In-place multiplication of vectors\n",
    "v = SVC(-1, 2, 3)\n",
    "v *= SVC(2, 0, -2)\n",
    "v"
   ]
  },
  {
   "cell_type": "code",
   "execution_count": 35,
   "metadata": {},
   "outputs": [
    {
     "data": {
      "text/plain": [
       "(VC(I=-2, J=4, K=6), VC(I=-2, J=4, K=6))"
      ]
     },
     "execution_count": 35,
     "metadata": {},
     "output_type": "execute_result"
    }
   ],
   "source": [
    "# Multiplication of vector and scalar\n",
    "v = SVC(-1, 2, 3)\n",
    "2 * v, v * 2"
   ]
  },
  {
   "cell_type": "code",
   "execution_count": 36,
   "metadata": {},
   "outputs": [
    {
     "data": {
      "text/plain": [
       "VC(I=-2, J=4, K=6)"
      ]
     },
     "execution_count": 36,
     "metadata": {},
     "output_type": "execute_result"
    }
   ],
   "source": [
    "# In-place multiplication of vector and scalar\n",
    "v = SVC(-1, 2, 3)\n",
    "v *= 2\n",
    "v"
   ]
  },
  {
   "cell_type": "code",
   "execution_count": 37,
   "metadata": {},
   "outputs": [
    {
     "data": {
      "text/plain": [
       "VC(I=-1.5, J=-2.0, K=3.0)"
      ]
     },
     "execution_count": 37,
     "metadata": {},
     "output_type": "execute_result"
    }
   ],
   "source": [
    "# True division of vectors\n",
    "v = SVC(-3, 4, 6)\n",
    "v / SVC(2, -2, 2)"
   ]
  },
  {
   "cell_type": "code",
   "execution_count": 38,
   "metadata": {},
   "outputs": [
    {
     "data": {
      "text/plain": [
       "VC(I=-1.5, J=-2.0, K=3.0)"
      ]
     },
     "execution_count": 38,
     "metadata": {},
     "output_type": "execute_result"
    }
   ],
   "source": [
    "# In-place true division of vectors\n",
    "v = SVC(-3, 4, 6)\n",
    "v /= SVC(2, -2, 2)\n",
    "v"
   ]
  },
  {
   "cell_type": "code",
   "execution_count": 39,
   "metadata": {},
   "outputs": [
    {
     "data": {
      "text/plain": [
       "VC(I=-0.5, J=0.6666666666666666, K=1.0)"
      ]
     },
     "execution_count": 39,
     "metadata": {},
     "output_type": "execute_result"
    }
   ],
   "source": [
    "# True division of vector and scalar\n",
    "v = SVC(-3, 4, 6)\n",
    "v / 6"
   ]
  },
  {
   "cell_type": "code",
   "execution_count": 40,
   "metadata": {},
   "outputs": [
    {
     "data": {
      "text/plain": [
       "VC(I=-1.5, J=2.0, K=3.0)"
      ]
     },
     "execution_count": 40,
     "metadata": {},
     "output_type": "execute_result"
    }
   ],
   "source": [
    "# In-place true division of vector and scalar\n",
    "v = SVC(-3, 4, 6)\n",
    "v /= 2\n",
    "v"
   ]
  },
  {
   "cell_type": "code",
   "execution_count": 41,
   "metadata": {},
   "outputs": [
    {
     "data": {
      "text/plain": [
       "VC(I=9, J=0.0625, K=36)"
      ]
     },
     "execution_count": 41,
     "metadata": {},
     "output_type": "execute_result"
    }
   ],
   "source": [
    "# Vector to the power of vector\n",
    "v = SVC(-3, 4, 6)\n",
    "v**SVC(2, -2, 2)"
   ]
  },
  {
   "cell_type": "code",
   "execution_count": 42,
   "metadata": {},
   "outputs": [
    {
     "data": {
      "text/plain": [
       "VC(I=9, J=0.0625, K=36)"
      ]
     },
     "execution_count": 42,
     "metadata": {},
     "output_type": "execute_result"
    }
   ],
   "source": [
    "# In-place vector to the power of vector\n",
    "v = SVC(-3, 4, 6)\n",
    "v **= SVC(2, -2, 2)\n",
    "v"
   ]
  },
  {
   "cell_type": "code",
   "execution_count": 43,
   "metadata": {},
   "outputs": [
    {
     "data": {
      "text/plain": [
       "VC(I=9, J=25, K=36)"
      ]
     },
     "execution_count": 43,
     "metadata": {},
     "output_type": "execute_result"
    }
   ],
   "source": [
    "# Vector to the power of scalar\n",
    "v = SVC(-3, 5, 6)\n",
    "v**2"
   ]
  },
  {
   "cell_type": "code",
   "execution_count": 44,
   "metadata": {},
   "outputs": [
    {
     "data": {
      "text/plain": [
       "VC(I=9, J=25, K=36)"
      ]
     },
     "execution_count": 44,
     "metadata": {},
     "output_type": "execute_result"
    }
   ],
   "source": [
    "# In-place vector to the power of scalar\n",
    "v = SVC(-3, 5, 6)\n",
    "v **= 2\n",
    "v"
   ]
  },
  {
   "cell_type": "code",
   "execution_count": 45,
   "metadata": {},
   "outputs": [
    {
     "data": {
      "text/plain": [
       "VC(I=-2, J=-3, K=3)"
      ]
     },
     "execution_count": 45,
     "metadata": {},
     "output_type": "execute_result"
    }
   ],
   "source": [
    "# Floor division of vectors\n",
    "v = SVC(-3, 5, 6)\n",
    "v // SVC(2, -2, 2)"
   ]
  },
  {
   "cell_type": "code",
   "execution_count": 46,
   "metadata": {},
   "outputs": [
    {
     "data": {
      "text/plain": [
       "VC(I=-2, J=-3, K=3)"
      ]
     },
     "execution_count": 46,
     "metadata": {},
     "output_type": "execute_result"
    }
   ],
   "source": [
    "# In-place floor division of vectors\n",
    "v = SVC(-3, 5, 6)\n",
    "v //= SVC(2, -2, 2)\n",
    "v"
   ]
  },
  {
   "cell_type": "code",
   "execution_count": 47,
   "metadata": {},
   "outputs": [
    {
     "data": {
      "text/plain": [
       "VC(I=-2, J=2, K=3)"
      ]
     },
     "execution_count": 47,
     "metadata": {},
     "output_type": "execute_result"
    }
   ],
   "source": [
    "# Floor division of vector and scalar\n",
    "v = SVC(-3, 5, 6)\n",
    "v // 2"
   ]
  },
  {
   "cell_type": "code",
   "execution_count": 48,
   "metadata": {},
   "outputs": [
    {
     "data": {
      "text/plain": [
       "VC(I=-2, J=2, K=3)"
      ]
     },
     "execution_count": 48,
     "metadata": {},
     "output_type": "execute_result"
    }
   ],
   "source": [
    "# In-place floor division of vector and scalar\n",
    "v = SVC(-3, 5, 6)\n",
    "v //= 2\n",
    "v"
   ]
  },
  {
   "cell_type": "code",
   "execution_count": 49,
   "metadata": {},
   "outputs": [
    {
     "data": {
      "text/plain": [
       "VC(I=1, J=-1, K=0)"
      ]
     },
     "execution_count": 49,
     "metadata": {},
     "output_type": "execute_result"
    }
   ],
   "source": [
    "# Vector modulus vector\n",
    "u = SVC(-3, 5, 6)\n",
    "w = SVC(2, -2, 2)\n",
    "u % w"
   ]
  },
  {
   "cell_type": "code",
   "execution_count": 50,
   "metadata": {},
   "outputs": [
    {
     "data": {
      "text/plain": [
       "VC(I=1, J=-1, K=0)"
      ]
     },
     "execution_count": 50,
     "metadata": {},
     "output_type": "execute_result"
    }
   ],
   "source": [
    "# In-place vector modulus vector\n",
    "v = SVC(-3, 5, 6)\n",
    "w = SVC(2, -2, 2)\n",
    "v %= w\n",
    "v"
   ]
  },
  {
   "cell_type": "code",
   "execution_count": 51,
   "metadata": {},
   "outputs": [
    {
     "data": {
      "text/plain": [
       "VC(I=1, J=1, K=0)"
      ]
     },
     "execution_count": 51,
     "metadata": {},
     "output_type": "execute_result"
    }
   ],
   "source": [
    "# Modulus of vector and scalar\n",
    "v = SVC(-3, 5, 6)\n",
    "v % 2"
   ]
  },
  {
   "cell_type": "code",
   "execution_count": 52,
   "metadata": {},
   "outputs": [
    {
     "data": {
      "text/plain": [
       "VC(I=1, J=1, K=0)"
      ]
     },
     "execution_count": 52,
     "metadata": {},
     "output_type": "execute_result"
    }
   ],
   "source": [
    "# In-place modulus of vector and scalar\n",
    "v = SVC(-3, 5, 6)\n",
    "v %= 2\n",
    "v"
   ]
  },
  {
   "cell_type": "code",
   "execution_count": null,
   "metadata": {},
   "outputs": [],
   "source": []
  }
 ],
 "metadata": {
  "kernelspec": {
   "display_name": "Python 3",
   "language": "python",
   "name": "python3"
  },
  "language_info": {
   "codemirror_mode": {
    "name": "ipython",
    "version": 3
   },
   "file_extension": ".py",
   "mimetype": "text/x-python",
   "name": "python",
   "nbconvert_exporter": "python",
   "pygments_lexer": "ipython3",
   "version": "3.6.7"
  }
 },
 "nbformat": 4,
 "nbformat_minor": 2
}
