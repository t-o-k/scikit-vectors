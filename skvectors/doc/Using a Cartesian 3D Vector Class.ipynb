{
 "cells": [
  {
   "cell_type": "markdown",
   "metadata": {},
   "source": [
    "# Using a Cartesian 3D Vector Class"
   ]
  },
  {
   "cell_type": "markdown",
   "metadata": {},
   "source": [
    "Copyright (c) 2019 Tor Olav Kristensen, http://subcube.com\n",
    "\n",
    "https://github.com/t-o-k/scikit-vectors\n",
    "\n",
    "Use of this source code is governed by a BSD-license that can be found in the LICENSE file."
   ]
  },
  {
   "cell_type": "code",
   "execution_count": 1,
   "metadata": {},
   "outputs": [],
   "source": [
    "from math import pi\n",
    "\n",
    "from skvectors import create_class_Cartesian_3D_Vector"
   ]
  },
  {
   "cell_type": "code",
   "execution_count": 2,
   "metadata": {
    "scrolled": false
   },
   "outputs": [],
   "source": [
    "# Create a 3-dimensional cartesian vector class\n",
    "\n",
    "CVC3D = create_class_Cartesian_3D_Vector('CVC3D', 'xyz')\n",
    "\n",
    "# Explicit alternative:\n",
    "# CVC3D = \\\n",
    "#     create_class_Cartesian_3D_Vector(\n",
    "#         name = 'CVC3D',\n",
    "#         component_names = [ 'x', 'y', 'z' ],\n",
    "#         brackets = [ '<', '>' ],\n",
    "#         sep = ', ',\n",
    "#         cnull = 0,\n",
    "#         cunit = 1,\n",
    "#         functions = None\n",
    "#     )"
   ]
  },
  {
   "cell_type": "code",
   "execution_count": 3,
   "metadata": {},
   "outputs": [
    {
     "data": {
      "text/plain": [
       "CVC3D(x=-15, y=12, z=-13)"
      ]
     },
     "execution_count": 3,
     "metadata": {},
     "output_type": "execute_result"
    }
   ],
   "source": [
    "# Create a vector from the cross product of a vector and another\n",
    "u = CVC3D(-1, 2, 3)\n",
    "v = CVC3D(4, 5, 0)\n",
    "u.cross(v)"
   ]
  },
  {
   "cell_type": "code",
   "execution_count": 4,
   "metadata": {},
   "outputs": [
    {
     "data": {
      "text/plain": [
       "0.7071067811865475"
      ]
     },
     "execution_count": 4,
     "metadata": {},
     "output_type": "execute_result"
    }
   ],
   "source": [
    "# Calculate the sine (from cnull to +cunit) of the smallest angle between two vectors\n",
    "u = CVC3D(3, 0, 0)\n",
    "v = CVC3D(1, 0, -1)\n",
    "u.sin(v)  # 2**-0.5"
   ]
  },
  {
   "cell_type": "code",
   "execution_count": 5,
   "metadata": {},
   "outputs": [
    {
     "data": {
      "text/plain": [
       "(CVC3D(x=1, y=3.0, z=2.0), CVC3D(x=1, y=-3.0, z=-1.9999999999999998))"
      ]
     },
     "execution_count": 5,
     "metadata": {},
     "output_type": "execute_result"
    }
   ],
   "source": [
    "# Create a vector from a vector rotated around the basis vector x by an angle in radians\n",
    "u = CVC3D(1, -2, 3)\n",
    "u.rotate_x(angle=-pi/2), u.rotate_x(pi/2)"
   ]
  },
  {
   "cell_type": "code",
   "execution_count": 6,
   "metadata": {},
   "outputs": [
    {
     "data": {
      "text/plain": [
       "(CVC3D(x=-3.0, y=-2, z=1.0000000000000002),\n",
       " CVC3D(x=3.0, y=-2, z=-0.9999999999999998))"
      ]
     },
     "execution_count": 6,
     "metadata": {},
     "output_type": "execute_result"
    }
   ],
   "source": [
    "# Create a vector from a vector rotated around the basis vector y by an angle in radians\n",
    "u = CVC3D(1, -2, 3)\n",
    "u.rotate_y(angle=-pi/2), u.rotate_y(pi/2)"
   ]
  },
  {
   "cell_type": "code",
   "execution_count": 7,
   "metadata": {},
   "outputs": [
    {
     "data": {
      "text/plain": [
       "(CVC3D(x=-2.0, y=-1.0000000000000002, z=3),\n",
       " CVC3D(x=2.0, y=0.9999999999999999, z=3))"
      ]
     },
     "execution_count": 7,
     "metadata": {},
     "output_type": "execute_result"
    }
   ],
   "source": [
    "# Create a vector from a vector rotated around the basis vector z by an angle in radians\n",
    "u = CVC3D(1, -2, 3)\n",
    "u.rotate_z(angle=-pi/2), u.rotate_z(pi/2)"
   ]
  },
  {
   "cell_type": "code",
   "execution_count": 8,
   "metadata": {},
   "outputs": [
    {
     "data": {
      "text/plain": [
       "CVC3D(x=1.3544899930148195e-16, y=1.0000000000000004, z=1.0000000000000002)"
      ]
     },
     "execution_count": 8,
     "metadata": {},
     "output_type": "execute_result"
    }
   ],
   "source": [
    "# Create a vector from a vector rotated around another by an angle in radians\n",
    "u = CVC3D(-1, -1, 0)\n",
    "v = CVC3D(3, 0, -3)\n",
    "u.axis_rotate(v, angle=pi)"
   ]
  },
  {
   "cell_type": "code",
   "execution_count": 9,
   "metadata": {},
   "outputs": [
    {
     "data": {
      "text/plain": [
       "CVC3D(x=-1.0000000000000007, y=-1.0000000000000002, z=3.999999999999999)"
      ]
     },
     "execution_count": 9,
     "metadata": {},
     "output_type": "execute_result"
    }
   ],
   "source": [
    "# Create a vector from a vector rotated around another by an angle in radians\n",
    "u = CVC3D(-3, -3, 0)\n",
    "v = CVC3D(5, 5, -5)\n",
    "u.axis_rotate(v, pi)"
   ]
  },
  {
   "cell_type": "code",
   "execution_count": 10,
   "metadata": {},
   "outputs": [
    {
     "data": {
      "text/plain": [
       "CVC3D(x=2.0000000000000018, y=14.0, z=-5.000000000000001)"
      ]
     },
     "execution_count": 10,
     "metadata": {},
     "output_type": "execute_result"
    }
   ],
   "source": [
    "# Create a vector from a vector reoriented from one direction to another direction.\n",
    "# NB: The two direction vectors must not point in opposite directions\n",
    "u = CVC3D(9, 12, 0)\n",
    "v = CVC3D(1, 0, 1)\n",
    "w = CVC3D(0, 2, 2)\n",
    "u.reorient(v, w)"
   ]
  },
  {
   "cell_type": "code",
   "execution_count": 11,
   "metadata": {},
   "outputs": [
    {
     "data": {
      "text/plain": [
       "True"
      ]
     },
     "execution_count": 11,
     "metadata": {},
     "output_type": "execute_result"
    }
   ],
   "source": [
    "# Check if a vector is parallel to another\n",
    "u = CVC3D(1, 0, -3)\n",
    "v = CVC3D(-2, 0, 6)\n",
    "u.are_parallel(v)"
   ]
  },
  {
   "cell_type": "code",
   "execution_count": 12,
   "metadata": {},
   "outputs": [
    {
     "data": {
      "text/plain": [
       "False"
      ]
     },
     "execution_count": 12,
     "metadata": {},
     "output_type": "execute_result"
    }
   ],
   "source": [
    "# Check if a vector is parallel to another\n",
    "u = CVC3D(1, 0, -3)\n",
    "v = CVC3D(-2, 0, -6)\n",
    "u.are_parallel(v)"
   ]
  },
  {
   "cell_type": "code",
   "execution_count": 13,
   "metadata": {},
   "outputs": [
    {
     "data": {
      "text/plain": [
       "True"
      ]
     },
     "execution_count": 13,
     "metadata": {},
     "output_type": "execute_result"
    }
   ],
   "source": [
    "# NB: All vectors are parallel to the zero vector\n",
    "u = CVC3D(1, 0, -3)\n",
    "v = CVC3D(0, 0, 0)\n",
    "u.are_parallel(v)"
   ]
  },
  {
   "cell_type": "code",
   "execution_count": 14,
   "metadata": {},
   "outputs": [
    {
     "data": {
      "text/plain": [
       "True"
      ]
     },
     "execution_count": 14,
     "metadata": {},
     "output_type": "execute_result"
    }
   ],
   "source": [
    "# NB: The zero vector is parallel to all vectors\n",
    "u = CVC3D(0, 0, 0)\n",
    "v = CVC3D(1, 0, -3)\n",
    "u.are_parallel(v)"
   ]
  },
  {
   "cell_type": "code",
   "execution_count": 15,
   "metadata": {},
   "outputs": [
    {
     "data": {
      "text/plain": [
       "70"
      ]
     },
     "execution_count": 15,
     "metadata": {},
     "output_type": "execute_result"
    }
   ],
   "source": [
    "# Calculate the scalar triple product of a vector and two others\n",
    "u = CVC3D(-1, 2, 3)\n",
    "v = CVC3D(-2, -2, 2)\n",
    "w = CVC3D(4, 0, 5)\n",
    "u.stp(v, w)"
   ]
  },
  {
   "cell_type": "code",
   "execution_count": 16,
   "metadata": {},
   "outputs": [
    {
     "data": {
      "text/plain": [
       "CVC3D(x=7, y=16, z=-13)"
      ]
     },
     "execution_count": 16,
     "metadata": {},
     "output_type": "execute_result"
    }
   ],
   "source": [
    "# Create a vector from the vector triple product of a vector and two others\n",
    "u = CVC3D(1, 2, 3)\n",
    "v = CVC3D(2, 3, 1)\n",
    "w = CVC3D(1, 1, 2)\n",
    "u.vtp(v, w)"
   ]
  },
  {
   "cell_type": "code",
   "execution_count": 17,
   "metadata": {},
   "outputs": [
    {
     "data": {
      "text/plain": [
       "CVC3D(x=4.3297802811774667e-16, y=7.0710678118654755, z=7.071067811865475)"
      ]
     },
     "execution_count": 17,
     "metadata": {},
     "output_type": "execute_result"
    }
   ],
   "source": [
    "# Create a vector from polar coordinates\n",
    "# The angles are in radians\n",
    "u = CVC3D.from_polar(radius=10, azimuth=pi/2, inclination=pi/4)\n",
    "u  # = 10 * CVC3D(x=0, y=2**-0.5, z=2**-0.5)"
   ]
  },
  {
   "cell_type": "code",
   "execution_count": 18,
   "metadata": {},
   "outputs": [
    {
     "data": {
      "text/plain": [
       "(CVC3D(x=1.0, y=0.0, z=0.0),\n",
       " CVC3D(x=6.123233995736766e-17, y=1.0, z=0.0),\n",
       " CVC3D(x=-1.0, y=1.2246467991473532e-16, z=0.0))"
      ]
     },
     "execution_count": 18,
     "metadata": {},
     "output_type": "execute_result"
    }
   ],
   "source": [
    "# Create vectors from polar coordinates\n",
    "CVC3D.from_polar(1, 0, 0), CVC3D.from_polar(1, pi/2, 0), CVC3D.from_polar(1, pi, 0)"
   ]
  },
  {
   "cell_type": "code",
   "execution_count": 19,
   "metadata": {},
   "outputs": [
    {
     "data": {
      "text/plain": [
       "[CVC3D(x=-8.0, y=-0.0, z=-9.797174393178826e-16),\n",
       " CVC3D(x=4.898587196589413e-16, y=0.0, z=-8.0),\n",
       " CVC3D(x=8.0, y=0.0, z=0.0),\n",
       " CVC3D(x=4.898587196589413e-16, y=0.0, z=8.0),\n",
       " CVC3D(x=-8.0, y=-0.0, z=9.797174393178826e-16)]"
      ]
     },
     "execution_count": 19,
     "metadata": {},
     "output_type": "execute_result"
    }
   ],
   "source": [
    "# Create vectors from polar coordinates\n",
    "[\n",
    "    CVC3D.from_polar(radius=8, azimuth=0, inclination=angle)\n",
    "    for angle in [ -2/2*pi, -1/2*pi, 0/2*pi, 1/2*pi, 2/2*pi ]\n",
    "]"
   ]
  },
  {
   "cell_type": "code",
   "execution_count": 20,
   "metadata": {},
   "outputs": [
    {
     "data": {
      "text/plain": [
       "[CVC3D(x=-8.0, y=-9.797174393178826e-16, z=0.0),\n",
       " CVC3D(x=4.898587196589413e-16, y=-8.0, z=0.0),\n",
       " CVC3D(x=8.0, y=0.0, z=0.0),\n",
       " CVC3D(x=4.898587196589413e-16, y=8.0, z=0.0),\n",
       " CVC3D(x=-8.0, y=9.797174393178826e-16, z=0.0)]"
      ]
     },
     "execution_count": 20,
     "metadata": {},
     "output_type": "execute_result"
    }
   ],
   "source": [
    "# Create vectors from polar coordinates\n",
    "[\n",
    "    CVC3D.from_polar(radius=8, azimuth=angle, inclination=0)\n",
    "    for angle in [ -2/2*pi, -1/2*pi, 0/2*pi, 1/2*pi, 2/2*pi ]\n",
    "]"
   ]
  },
  {
   "cell_type": "code",
   "execution_count": 21,
   "metadata": {},
   "outputs": [
    {
     "data": {
      "text/plain": [
       "{'azimuth': 1.5707963267948966,\n",
       " 'inclination': 0.7853981633974483,\n",
       " 'radius': 10.0}"
      ]
     },
     "execution_count": 21,
     "metadata": {},
     "output_type": "execute_result"
    }
   ],
   "source": [
    "# Calculate the polar coordinates for a vector and return them in a dictionary\n",
    "# The azimuth angle is in radians from -pi*cunit to pi*cunit\n",
    "# The inclination angle is in radians from -pi/2*cunit to +pi/2*cunit\n",
    "u = 10 * CVC3D(0, 2**-0.5, 2**-0.5)\n",
    "u.polar_as_dict()  # radius = 10.0, azimuth = pi/2 radians, inclination = pi/4 radians"
   ]
  },
  {
   "cell_type": "code",
   "execution_count": 22,
   "metadata": {},
   "outputs": [
    {
     "data": {
      "text/plain": [
       "10.0"
      ]
     },
     "execution_count": 22,
     "metadata": {},
     "output_type": "execute_result"
    }
   ],
   "source": [
    "# Calculate the radius of a vector converted to polar coordinates\n",
    "u = 10 * CVC3D(0, 2**-0.5, 2**-0.5)\n",
    "u.radius"
   ]
  },
  {
   "cell_type": "code",
   "execution_count": 23,
   "metadata": {},
   "outputs": [
    {
     "data": {
      "text/plain": [
       "1.5707963267948966"
      ]
     },
     "execution_count": 23,
     "metadata": {},
     "output_type": "execute_result"
    }
   ],
   "source": [
    "# Calculate the azimuth of a vector converted to polar coordinates\n",
    "u = 10 * CVC3D(0, 2**-0.5, 2**-0.5)\n",
    "u.azimuth  # = pi/2 radians"
   ]
  },
  {
   "cell_type": "code",
   "execution_count": 24,
   "metadata": {},
   "outputs": [
    {
     "data": {
      "text/plain": [
       "0.7853981633974483"
      ]
     },
     "execution_count": 24,
     "metadata": {},
     "output_type": "execute_result"
    }
   ],
   "source": [
    "# Calculate the inclination of a vector converted to polar coordinates\n",
    "u = 10 * CVC3D(0, 2**-0.5, 2**-0.5)\n",
    "u.inclination  # = pi/4 radians"
   ]
  },
  {
   "cell_type": "code",
   "execution_count": null,
   "metadata": {},
   "outputs": [],
   "source": []
  }
 ],
 "metadata": {
  "kernelspec": {
   "display_name": "Python 3",
   "language": "python",
   "name": "python3"
  },
  "language_info": {
   "codemirror_mode": {
    "name": "ipython",
    "version": 3
   },
   "file_extension": ".py",
   "mimetype": "text/x-python",
   "name": "python",
   "nbconvert_exporter": "python",
   "pygments_lexer": "ipython3",
   "version": "3.6.7"
  }
 },
 "nbformat": 4,
 "nbformat_minor": 2
}
