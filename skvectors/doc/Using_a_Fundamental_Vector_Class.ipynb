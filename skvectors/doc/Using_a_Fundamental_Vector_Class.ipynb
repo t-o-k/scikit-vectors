{
 "cells": [
  {
   "cell_type": "markdown",
   "metadata": {},
   "source": [
    "# Using a Fundamental Vector Class"
   ]
  },
  {
   "cell_type": "markdown",
   "metadata": {},
   "source": [
    "Copyright (c) 2019 Tor Olav Kristensen, http://subcube.com\n",
    "\n",
    "https://github.com/t-o-k/scikit-vectors\n",
    "\n",
    "Use of this source code is governed by a BSD-license that can be found in the LICENSE file."
   ]
  },
  {
   "cell_type": "code",
   "execution_count": 1,
   "metadata": {},
   "outputs": [],
   "source": [
    "from skvectors import create_class_Fundamental_Vector"
   ]
  },
  {
   "cell_type": "code",
   "execution_count": 2,
   "metadata": {
    "scrolled": false
   },
   "outputs": [],
   "source": [
    "# Create a 3-dimensional fundamental vector class\n",
    "\n",
    "# The first argument is a string with the name of the class\n",
    "# to be created.\n",
    "\n",
    "# The number of elements in the iterable given as the second\n",
    "# argument determines the number of dimensions for the class.\n",
    "\n",
    "FVC = create_class_Fundamental_Vector('FVC', 'abc')\n",
    "\n",
    "# Explicit alternative:\n",
    "# FVC = \\\n",
    "#     create_class_Fundamental_Vector(\n",
    "#         name = 'FVC',\n",
    "#         component_names = [ 'a', 'b', 'c' ],\n",
    "#         brackets = [ '<', '>' ],\n",
    "#         sep = ', '\n",
    "#     )"
   ]
  },
  {
   "cell_type": "code",
   "execution_count": 3,
   "metadata": {
    "scrolled": false
   },
   "outputs": [
    {
     "data": {
      "text/plain": [
       "3"
      ]
     },
     "execution_count": 3,
     "metadata": {},
     "output_type": "execute_result"
    }
   ],
   "source": [
    "# Number of dimensions for vectors in the class\n",
    "FVC.dimensions()"
   ]
  },
  {
   "cell_type": "code",
   "execution_count": 4,
   "metadata": {},
   "outputs": [
    {
     "data": {
      "text/plain": [
       "['<', '>']"
      ]
     },
     "execution_count": 4,
     "metadata": {},
     "output_type": "execute_result"
    }
   ],
   "source": [
    "# Brackets for vectors in the class\n",
    "# (Used when printing a vector and when applying str to a vector)\n",
    "FVC.brackets"
   ]
  },
  {
   "cell_type": "code",
   "execution_count": 5,
   "metadata": {},
   "outputs": [
    {
     "data": {
      "text/plain": [
       "', '"
      ]
     },
     "execution_count": 5,
     "metadata": {},
     "output_type": "execute_result"
    }
   ],
   "source": [
    "# Separator between components for vectors in the class\n",
    "# (Used when printing a vector and when applying str or repr to a vector)\n",
    "FVC.sep"
   ]
  },
  {
   "cell_type": "code",
   "execution_count": 6,
   "metadata": {},
   "outputs": [
    {
     "data": {
      "text/plain": [
       "['a', 'b', 'c']"
      ]
     },
     "execution_count": 6,
     "metadata": {},
     "output_type": "execute_result"
    }
   ],
   "source": [
    "# List of component names for vectors in the class\n",
    "FVC.component_names()"
   ]
  },
  {
   "cell_type": "code",
   "execution_count": 7,
   "metadata": {},
   "outputs": [
    {
     "data": {
      "text/plain": [
       "FVC(a=1, b=-2, c=3)"
      ]
     },
     "execution_count": 7,
     "metadata": {},
     "output_type": "execute_result"
    }
   ],
   "source": [
    "# Initialize a vector\n",
    "FVC(1, -2, +3)"
   ]
  },
  {
   "cell_type": "code",
   "execution_count": 8,
   "metadata": {},
   "outputs": [
    {
     "data": {
      "text/plain": [
       "FVC(a=1, b=-2, c=3)"
      ]
     },
     "execution_count": 8,
     "metadata": {},
     "output_type": "execute_result"
    }
   ],
   "source": [
    "# Initialize a vector\n",
    "FVC(a=1, b=-2, c=+3)"
   ]
  },
  {
   "cell_type": "code",
   "execution_count": 9,
   "metadata": {},
   "outputs": [
    {
     "data": {
      "text/plain": [
       "FVC(a=1, b=-2, c=3)"
      ]
     },
     "execution_count": 9,
     "metadata": {},
     "output_type": "execute_result"
    }
   ],
   "source": [
    "# Initialize a vector\n",
    "l = [ 1, -2, 3 ]\n",
    "FVC(*l)"
   ]
  },
  {
   "cell_type": "code",
   "execution_count": 10,
   "metadata": {},
   "outputs": [
    {
     "data": {
      "text/plain": [
       "FVC(a=1, b=-2, c=3)"
      ]
     },
     "execution_count": 10,
     "metadata": {},
     "output_type": "execute_result"
    }
   ],
   "source": [
    "# Initialize vector\n",
    "d = { 'a': 1, 'b': -2, 'c': 3 }\n",
    "FVC(**d)"
   ]
  },
  {
   "cell_type": "code",
   "execution_count": 11,
   "metadata": {},
   "outputs": [
    {
     "data": {
      "text/plain": [
       "FVC(a=8, b=8, c=8)"
      ]
     },
     "execution_count": 11,
     "metadata": {},
     "output_type": "execute_result"
    }
   ],
   "source": [
    "# Initialize a vector\n",
    "FVC.fill(8)"
   ]
  },
  {
   "cell_type": "code",
   "execution_count": 12,
   "metadata": {},
   "outputs": [
    {
     "data": {
      "text/plain": [
       "3"
      ]
     },
     "execution_count": 12,
     "metadata": {},
     "output_type": "execute_result"
    }
   ],
   "source": [
    "# Number of dimensions of vector\n",
    "u = FVC(0, 0, 0)\n",
    "u.dimensions()"
   ]
  },
  {
   "cell_type": "code",
   "execution_count": 13,
   "metadata": {},
   "outputs": [
    {
     "data": {
      "text/plain": [
       "3"
      ]
     },
     "execution_count": 13,
     "metadata": {},
     "output_type": "execute_result"
    }
   ],
   "source": [
    "# Number of dimensions of vector\n",
    "u = FVC(0, 0, 0)\n",
    "len(u)"
   ]
  },
  {
   "cell_type": "code",
   "execution_count": 14,
   "metadata": {},
   "outputs": [
    {
     "data": {
      "text/plain": [
       "['a', 'b', 'c']"
      ]
     },
     "execution_count": 14,
     "metadata": {},
     "output_type": "execute_result"
    }
   ],
   "source": [
    "# List of component names for vector\n",
    "u = FVC(0, 0, 0)\n",
    "u.cnames"
   ]
  },
  {
   "cell_type": "code",
   "execution_count": 15,
   "metadata": {},
   "outputs": [
    {
     "data": {
      "text/plain": [
       "True"
      ]
     },
     "execution_count": 15,
     "metadata": {},
     "output_type": "execute_result"
    }
   ],
   "source": [
    "# Check if something is a vector\n",
    "u = FVC(-3, 4, 5)\n",
    "FVC.is_vector(u)"
   ]
  },
  {
   "cell_type": "code",
   "execution_count": 16,
   "metadata": {},
   "outputs": [
    {
     "data": {
      "text/plain": [
       "False"
      ]
     },
     "execution_count": 16,
     "metadata": {},
     "output_type": "execute_result"
    }
   ],
   "source": [
    "# Check if something is a vector\n",
    "d = { 'a': -3, 'b': 4, 'c': 5 }\n",
    "FVC.is_vector(d)"
   ]
  },
  {
   "cell_type": "code",
   "execution_count": 17,
   "metadata": {},
   "outputs": [
    {
     "name": "stdout",
     "output_type": "stream",
     "text": [
      "<2, 4, 6>\n"
     ]
    }
   ],
   "source": [
    "# Print a vector\n",
    "u = FVC(2, 4, 6)\n",
    "print(u)"
   ]
  },
  {
   "cell_type": "code",
   "execution_count": 18,
   "metadata": {},
   "outputs": [
    {
     "data": {
      "text/plain": [
       "'<2, 4, 6>'"
      ]
     },
     "execution_count": 18,
     "metadata": {},
     "output_type": "execute_result"
    }
   ],
   "source": [
    "# Applying str to a vector\n",
    "u = FVC(2, 4, 6)\n",
    "str(u)"
   ]
  },
  {
   "cell_type": "code",
   "execution_count": 19,
   "metadata": {},
   "outputs": [
    {
     "data": {
      "text/plain": [
       "'str applied to a vector: <-3.3, 4.6, -5.5>'"
      ]
     },
     "execution_count": 19,
     "metadata": {},
     "output_type": "execute_result"
    }
   ],
   "source": [
    "# Applying str to a vector inside a string\n",
    "u = FVC(-3.3, 4.6, -5.5)\n",
    "'str applied to a vector: {!s}'.format(u)"
   ]
  },
  {
   "cell_type": "code",
   "execution_count": 20,
   "metadata": {},
   "outputs": [
    {
     "data": {
      "text/plain": [
       "'FVC(a=2, b=4, c=6)'"
      ]
     },
     "execution_count": 20,
     "metadata": {},
     "output_type": "execute_result"
    }
   ],
   "source": [
    "# Applying repr to a vector\n",
    "u = FVC(2, 4, 6)\n",
    "repr(u)"
   ]
  },
  {
   "cell_type": "code",
   "execution_count": 21,
   "metadata": {},
   "outputs": [
    {
     "data": {
      "text/plain": [
       "FVC(a=2, b=4, c=6)"
      ]
     },
     "execution_count": 21,
     "metadata": {},
     "output_type": "execute_result"
    }
   ],
   "source": [
    "# NB: This does only work if the sep parameter in the class\n",
    "# creation above contains a comma, or a comma and space(s)\n",
    "\n",
    "# Applying repr to a vector\n",
    "u = FVC(2, 4, 6)\n",
    "eval(repr(u))"
   ]
  },
  {
   "cell_type": "code",
   "execution_count": 22,
   "metadata": {},
   "outputs": [
    {
     "data": {
      "text/plain": [
       "'repr applied to a vector: FVC(a=-3.3, b=4.6, c=-5.5)'"
      ]
     },
     "execution_count": 22,
     "metadata": {},
     "output_type": "execute_result"
    }
   ],
   "source": [
    "# Applying repr to a vector inside a string\n",
    "u = FVC(-3.3, 4.6, -5.5)\n",
    "'repr applied to a vector: {!r}'.format(u)"
   ]
  },
  {
   "cell_type": "code",
   "execution_count": 23,
   "metadata": {},
   "outputs": [
    {
     "data": {
      "text/plain": [
       "'<2.222e+00, 4.444e+00, 6.667e+00>'"
      ]
     },
     "execution_count": 23,
     "metadata": {},
     "output_type": "execute_result"
    }
   ],
   "source": [
    "# Applying format to a vector\n",
    "u = FVC(2.222222, 4.444444, 6.6666666)\n",
    "format(u, '.3e')"
   ]
  },
  {
   "cell_type": "code",
   "execution_count": 24,
   "metadata": {},
   "outputs": [
    {
     "data": {
      "text/plain": [
       "'format applied to two vectors: <2.2222e+00, 4.4444e+00, 6.6667e+00> and <-3.30e+00, 4.60e+00, -5.50e+00>'"
      ]
     },
     "execution_count": 24,
     "metadata": {},
     "output_type": "execute_result"
    }
   ],
   "source": [
    "# Applying format to vectors inside a string\n",
    "u = FVC(2.222222, 4.444444, 6.6666666)\n",
    "v = FVC(-3.3, 4.6, -5.5)\n",
    "'format applied to two vectors: {:.4e} and {:.2e}'.format(u, v)"
   ]
  },
  {
   "cell_type": "code",
   "execution_count": 25,
   "metadata": {
    "scrolled": false
   },
   "outputs": [
    {
     "data": {
      "text/plain": [
       "True"
      ]
     },
     "execution_count": 25,
     "metadata": {},
     "output_type": "execute_result"
    }
   ],
   "source": [
    "# Check if vector contains a value\n",
    "u = FVC(2, 3, 4)\n",
    "3 in u"
   ]
  },
  {
   "cell_type": "code",
   "execution_count": 26,
   "metadata": {},
   "outputs": [
    {
     "data": {
      "text/plain": [
       "False"
      ]
     },
     "execution_count": 26,
     "metadata": {},
     "output_type": "execute_result"
    }
   ],
   "source": [
    "# Check if a vector does not contain a value\n",
    "u = FVC(2, 3, 4)\n",
    "3.0 not in u"
   ]
  },
  {
   "cell_type": "code",
   "execution_count": 27,
   "metadata": {},
   "outputs": [
    {
     "data": {
      "text/plain": [
       "(-6, 8, 3)"
      ]
     },
     "execution_count": 27,
     "metadata": {},
     "output_type": "execute_result"
    }
   ],
   "source": [
    "# The component values of a vector\n",
    "u = FVC(-6, 8, 3)\n",
    "u.a, u.b, u.c"
   ]
  },
  {
   "cell_type": "code",
   "execution_count": 28,
   "metadata": {},
   "outputs": [
    {
     "data": {
      "text/plain": [
       "FVC(a=6, b=7, c=8)"
      ]
     },
     "execution_count": 28,
     "metadata": {},
     "output_type": "execute_result"
    }
   ],
   "source": [
    "# Change the component values of a vector\n",
    "u = FVC(0, 0, 0)\n",
    "u.a, u.b, u.c = 6, 7, 8\n",
    "u"
   ]
  },
  {
   "cell_type": "code",
   "execution_count": 29,
   "metadata": {},
   "outputs": [
    {
     "data": {
      "text/plain": [
       "FVC(a=100, b=0, c=0)"
      ]
     },
     "execution_count": 29,
     "metadata": {},
     "output_type": "execute_result"
    }
   ],
   "source": [
    "# Change a component value of a vector\n",
    "u = FVC(0, 0, 0)\n",
    "u.a += 100\n",
    "u"
   ]
  },
  {
   "cell_type": "code",
   "execution_count": 30,
   "metadata": {},
   "outputs": [
    {
     "data": {
      "text/plain": [
       "FVC(a=3, b=-4, c=2)"
      ]
     },
     "execution_count": 30,
     "metadata": {},
     "output_type": "execute_result"
    }
   ],
   "source": [
    "# Change a component value of a vector\n",
    "u = FVC(3, -4, 20)\n",
    "u.c //= 8\n",
    "u"
   ]
  },
  {
   "cell_type": "code",
   "execution_count": 31,
   "metadata": {},
   "outputs": [
    {
     "data": {
      "text/plain": [
       "(7, -8, 9)"
      ]
     },
     "execution_count": 31,
     "metadata": {},
     "output_type": "execute_result"
    }
   ],
   "source": [
    "# The component values / Indexing of vector\n",
    "u = FVC(7, -8, 9)\n",
    "u[0], u[1], u[2]"
   ]
  },
  {
   "cell_type": "code",
   "execution_count": 32,
   "metadata": {},
   "outputs": [
    {
     "data": {
      "text/plain": [
       "(7, -8, 9)"
      ]
     },
     "execution_count": 32,
     "metadata": {},
     "output_type": "execute_result"
    }
   ],
   "source": [
    "# The component values / Indexing of vector\n",
    "u = FVC(7, -8, 9)\n",
    "u[-3], u[-2], u[-1]"
   ]
  },
  {
   "cell_type": "code",
   "execution_count": 33,
   "metadata": {},
   "outputs": [
    {
     "data": {
      "text/plain": [
       "([7, -8, 9], [7, -8, 9], [7, -8, 9])"
      ]
     },
     "execution_count": 33,
     "metadata": {},
     "output_type": "execute_result"
    }
   ],
   "source": [
    "# Indexing of a vector\n",
    "u = FVC(7, -8, 9)\n",
    "u[0:3], u[:], u[::]"
   ]
  },
  {
   "cell_type": "code",
   "execution_count": 34,
   "metadata": {
    "scrolled": true
   },
   "outputs": [
    {
     "data": {
      "text/plain": [
       "FVC(a=7, b=-8, c=9)"
      ]
     },
     "execution_count": 34,
     "metadata": {},
     "output_type": "execute_result"
    }
   ],
   "source": [
    "# Change the component values of a vector\n",
    "u = FVC(0, 0, 0)\n",
    "u[0], u[1], u[2] = 7, -8, 9\n",
    "u"
   ]
  },
  {
   "cell_type": "code",
   "execution_count": 35,
   "metadata": {},
   "outputs": [
    {
     "data": {
      "text/plain": [
       "FVC(a=7, b=-8, c=9)"
      ]
     },
     "execution_count": 35,
     "metadata": {},
     "output_type": "execute_result"
    }
   ],
   "source": [
    "# Change the component values of a vector\n",
    "u = FVC(0, 0, 0)\n",
    "u[0:3] = 7, -8, 9\n",
    "u"
   ]
  },
  {
   "cell_type": "code",
   "execution_count": 36,
   "metadata": {},
   "outputs": [
    {
     "data": {
      "text/plain": [
       "FVC(a=7, b=-8, c=9)"
      ]
     },
     "execution_count": 36,
     "metadata": {},
     "output_type": "execute_result"
    }
   ],
   "source": [
    "# Change the component values of a vector\n",
    "u = FVC(0, 0, 0)\n",
    "v = FVC(7, -8, 9)\n",
    "u[:] = v\n",
    "u"
   ]
  },
  {
   "cell_type": "code",
   "execution_count": 37,
   "metadata": {},
   "outputs": [
    {
     "data": {
      "text/plain": [
       "FVC(a=7, b=-8, c=9)"
      ]
     },
     "execution_count": 37,
     "metadata": {},
     "output_type": "execute_result"
    }
   ],
   "source": [
    "# Change the component values of a vector\n",
    "u = FVC(0, 0, 0)\n",
    "u[:] = (cv for cv in [ 7, -8, 9 ])\n",
    "u"
   ]
  },
  {
   "cell_type": "code",
   "execution_count": 38,
   "metadata": {},
   "outputs": [
    {
     "data": {
      "text/plain": [
       "([7, -8, 9], [7, -8, 9], [7, -8, 9])"
      ]
     },
     "execution_count": 38,
     "metadata": {},
     "output_type": "execute_result"
    }
   ],
   "source": [
    "# List of the component values of a vector\n",
    "u = FVC(7, -8, 9)\n",
    "u.cvalues, u.component_values(), u[:]"
   ]
  },
  {
   "cell_type": "code",
   "execution_count": 39,
   "metadata": {},
   "outputs": [
    {
     "data": {
      "text/plain": [
       "([7, -8, 9], [7, -8, 9], [7, -8, 9])"
      ]
     },
     "execution_count": 39,
     "metadata": {},
     "output_type": "execute_result"
    }
   ],
   "source": [
    "# List of the component values \n",
    "u = FVC(7, -8, 9)\n",
    "list(u), [ *u ], [ getattr(u, cn) for cn in u.cnames ]"
   ]
  },
  {
   "cell_type": "code",
   "execution_count": 40,
   "metadata": {},
   "outputs": [
    {
     "data": {
      "text/plain": [
       "(7, -8, 9)"
      ]
     },
     "execution_count": 40,
     "metadata": {},
     "output_type": "execute_result"
    }
   ],
   "source": [
    "# Iterate over the components\n",
    "u = FVC(7, -8, 9)\n",
    "x, y, z = u\n",
    "x, y, z"
   ]
  },
  {
   "cell_type": "code",
   "execution_count": 41,
   "metadata": {},
   "outputs": [
    {
     "name": "stdout",
     "output_type": "stream",
     "text": [
      "7 -8 9\n"
     ]
    }
   ],
   "source": [
    "# Iterate over the components\n",
    "u = FVC(7, -8, 9)\n",
    "g = (cv for cv in u)\n",
    "print(*g)"
   ]
  },
  {
   "cell_type": "code",
   "execution_count": 42,
   "metadata": {},
   "outputs": [
    {
     "data": {
      "text/plain": [
       "(7, -8, 9)"
      ]
     },
     "execution_count": 42,
     "metadata": {},
     "output_type": "execute_result"
    }
   ],
   "source": [
    "# Iterate over the components\n",
    "u = FVC(7, -8, 9)\n",
    "components = iter(u)\n",
    "next(components), next(components), next(components)"
   ]
  },
  {
   "cell_type": "code",
   "execution_count": 43,
   "metadata": {},
   "outputs": [
    {
     "data": {
      "text/plain": [
       "True"
      ]
     },
     "execution_count": 43,
     "metadata": {},
     "output_type": "execute_result"
    }
   ],
   "source": [
    "# Check if a vector is equal to another\n",
    "u = FVC(2.0, 4.0, 6.0)\n",
    "v = FVC(2, 4, 6)\n",
    "u == v"
   ]
  },
  {
   "cell_type": "code",
   "execution_count": 44,
   "metadata": {},
   "outputs": [
    {
     "data": {
      "text/plain": [
       "False"
      ]
     },
     "execution_count": 44,
     "metadata": {},
     "output_type": "execute_result"
    }
   ],
   "source": [
    "# Check if a vector is not equal to another\n",
    "u = FVC(2, 4, 6)\n",
    "v = FVC(2.0, 4.0, 6.0)\n",
    "u != v"
   ]
  },
  {
   "cell_type": "code",
   "execution_count": 45,
   "metadata": {},
   "outputs": [
    {
     "data": {
      "text/plain": [
       "{'a': 2, 'b': 4, 'c': 6}"
      ]
     },
     "execution_count": 45,
     "metadata": {},
     "output_type": "execute_result"
    }
   ],
   "source": [
    "# Create a dictionary from the components of a vector and their names\n",
    "u = FVC(2, 4, 6)\n",
    "u.as_dict()"
   ]
  },
  {
   "cell_type": "code",
   "execution_count": 46,
   "metadata": {},
   "outputs": [
    {
     "data": {
      "text/plain": [
       "FVC(a=2, b=4, c=6)"
      ]
     },
     "execution_count": 46,
     "metadata": {},
     "output_type": "execute_result"
    }
   ],
   "source": [
    "# Make shallow copy of vector\n",
    "u = FVC(2, 4, 6)\n",
    "v = FVC(*u)\n",
    "v"
   ]
  },
  {
   "cell_type": "code",
   "execution_count": 47,
   "metadata": {},
   "outputs": [
    {
     "data": {
      "text/plain": [
       "FVC(a=2, b=4, c=6)"
      ]
     },
     "execution_count": 47,
     "metadata": {},
     "output_type": "execute_result"
    }
   ],
   "source": [
    "# Make shallow copy of vector\n",
    "u = FVC(2, 4, 6)\n",
    "v = u.copy()\n",
    "v"
   ]
  },
  {
   "cell_type": "code",
   "execution_count": 48,
   "metadata": {},
   "outputs": [
    {
     "data": {
      "text/plain": [
       "FVC(a=-3290.0, b=4610.0, c=-5490.0)"
      ]
     },
     "execution_count": 48,
     "metadata": {},
     "output_type": "execute_result"
    }
   ],
   "source": [
    "# Create a vector by applying a lambda function to each of its components\n",
    "u = FVC(-3.3, 4.6, -5.5)\n",
    "u(lambda s: 10 + s * 1000)"
   ]
  },
  {
   "cell_type": "code",
   "execution_count": 49,
   "metadata": {},
   "outputs": [
    {
     "data": {
      "text/plain": [
       "FVC(a=3.3, b=4.6, c=5.5)"
      ]
     },
     "execution_count": 49,
     "metadata": {},
     "output_type": "execute_result"
    }
   ],
   "source": [
    "# Create a vector by applying abs to each of its components\n",
    "u = FVC(-3.3, 4.6, -5.5)\n",
    "u(abs)"
   ]
  },
  {
   "cell_type": "code",
   "execution_count": 50,
   "metadata": {},
   "outputs": [
    {
     "data": {
      "text/plain": [
       "FVC(a=3, b=4, c=5)"
      ]
     },
     "execution_count": 50,
     "metadata": {},
     "output_type": "execute_result"
    }
   ],
   "source": [
    "# Create a vector by applying abs to each of its components\n",
    "u = FVC(-3, 4, -5)\n",
    "FVC(*map(abs, u))"
   ]
  },
  {
   "cell_type": "code",
   "execution_count": 51,
   "metadata": {},
   "outputs": [
    {
     "data": {
      "text/plain": [
       "FVC(a=-3, b=4, c=-5)"
      ]
     },
     "execution_count": 51,
     "metadata": {},
     "output_type": "execute_result"
    }
   ],
   "source": [
    "# Create a vector by applying the int class to each of its components\n",
    "u = FVC(-3.3, 4.6, -5.5)\n",
    "u(int)"
   ]
  },
  {
   "cell_type": "code",
   "execution_count": 52,
   "metadata": {},
   "outputs": [
    {
     "data": {
      "text/plain": [
       "FVC(a=-3, b=4, c=-5)"
      ]
     },
     "execution_count": 52,
     "metadata": {},
     "output_type": "execute_result"
    }
   ],
   "source": [
    "# Change the components of a vector by applying the int class to each component\n",
    "u = FVC(-3.3, 4.6, -5.5)\n",
    "u[:] = map(int, u)\n",
    "u"
   ]
  },
  {
   "cell_type": "code",
   "execution_count": 53,
   "metadata": {},
   "outputs": [
    {
     "data": {
      "text/plain": [
       "FVC(a=4, b=9, c=16)"
      ]
     },
     "execution_count": 53,
     "metadata": {},
     "output_type": "execute_result"
    }
   ],
   "source": [
    "# Create a vector method that takes 1 vector as argument\n",
    "\n",
    "\n",
    "def square(s):\n",
    "\n",
    "    return s**2\n",
    "\n",
    "\n",
    "FVC.create_vector_method_arg1('square', square)\n",
    "u = FVC(2, 3, -4)\n",
    "u.vector_square()"
   ]
  },
  {
   "cell_type": "code",
   "execution_count": 54,
   "metadata": {
    "scrolled": true
   },
   "outputs": [
    {
     "data": {
      "text/plain": [
       "FVC(a=2, b=3, c=4)"
      ]
     },
     "execution_count": 54,
     "metadata": {},
     "output_type": "execute_result"
    }
   ],
   "source": [
    "# Create, from a built in function, a vector method that takes 1 vector as argument\n",
    "FVC.create_vector_method_arg1('abs', lambda s: abs(s))\n",
    "u = FVC(2, 3, -4)\n",
    "u.vector_abs()"
   ]
  },
  {
   "cell_type": "code",
   "execution_count": 55,
   "metadata": {},
   "outputs": [
    {
     "data": {
      "text/plain": [
       "(FVC(a=3, b=1, c=-1), FVC(a=1001, b=998, c=1003))"
      ]
     },
     "execution_count": 55,
     "metadata": {},
     "output_type": "execute_result"
    }
   ],
   "source": [
    "# Create a vector method that takes 2 vectors as arguments\n",
    "\n",
    "\n",
    "def add(s, t):\n",
    "\n",
    "    return s + t\n",
    "\n",
    "\n",
    "FVC.create_vector_method_arg2('add', add)\n",
    "\n",
    "u = FVC(2, 3, -4)\n",
    "v = FVC(1, -2, 3)\n",
    "s = 1000\n",
    "u.vector_add(v), v.vector_add(s)"
   ]
  },
  {
   "cell_type": "code",
   "execution_count": 56,
   "metadata": {},
   "outputs": [
    {
     "data": {
      "text/plain": [
       "(FVC(a=1, b=4, c=6), FVC(a=0, b=100, c=100))"
      ]
     },
     "execution_count": 56,
     "metadata": {},
     "output_type": "execute_result"
    }
   ],
   "source": [
    "# Create a vector method that takes 3 vectors as arguments\n",
    "\n",
    "\n",
    "def select(r, s, t):\n",
    "\n",
    "    if r < 0:\n",
    "        result = s\n",
    "    else:\n",
    "        result = t\n",
    "\n",
    "    return result\n",
    "\n",
    "\n",
    "FVC.create_vector_method_arg3('select', select)\n",
    "\n",
    "u = FVC(-2, 0, 3)\n",
    "v = FVC(1, 3, 5)\n",
    "w = FVC(2, 4, 6)\n",
    "s = 0\n",
    "t = 100\n",
    "u.vector_select(v, w), u.vector_select(s, t)"
   ]
  },
  {
   "cell_type": "code",
   "execution_count": null,
   "metadata": {},
   "outputs": [],
   "source": []
  }
 ],
 "metadata": {
  "kernelspec": {
   "display_name": "Python 3",
   "language": "python",
   "name": "python3"
  },
  "language_info": {
   "codemirror_mode": {
    "name": "ipython",
    "version": 3
   },
   "file_extension": ".py",
   "mimetype": "text/x-python",
   "name": "python",
   "nbconvert_exporter": "python",
   "pygments_lexer": "ipython3",
   "version": "3.6.8"
  }
 },
 "nbformat": 4,
 "nbformat_minor": 2
}
