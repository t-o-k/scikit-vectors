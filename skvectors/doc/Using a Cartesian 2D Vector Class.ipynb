{
 "cells": [
  {
   "cell_type": "markdown",
   "metadata": {},
   "source": [
    "# Using a Cartesian 2D Vector Class"
   ]
  },
  {
   "cell_type": "markdown",
   "metadata": {},
   "source": [
    "Copyright (c) 2019 Tor Olav Kristensen, http://subcube.com\n",
    "\n",
    "https://github.com/t-o-k/scikit-vectors\n",
    "\n",
    "Use of this source code is governed by a BSD-license that can be found in the LICENSE file."
   ]
  },
  {
   "cell_type": "code",
   "execution_count": 1,
   "metadata": {},
   "outputs": [],
   "source": [
    "from math import pi\n",
    "\n",
    "from skvectors import create_class_Cartesian_2D_Vector"
   ]
  },
  {
   "cell_type": "code",
   "execution_count": 2,
   "metadata": {
    "scrolled": false
   },
   "outputs": [],
   "source": [
    "# Create a 2-dimensional cartesian vector class\n",
    "\n",
    "CVC2D = create_class_Cartesian_2D_Vector('CVC2D', 'uv')\n",
    "\n",
    "# Explicit alternative:\n",
    "# CVC2D = \\\n",
    "#     create_class_Cartesian_2D_Vector(\n",
    "#         name = 'CVC2D',\n",
    "#         component_names = [ 'u', 'v' ],\n",
    "#         brackets = [ '<', '>' ],\n",
    "#         sep = ', ',\n",
    "#         cnull = 0,\n",
    "#         cunit = 1,\n",
    "#         functions = None\n",
    "#     )"
   ]
  },
  {
   "cell_type": "code",
   "execution_count": 3,
   "metadata": {},
   "outputs": [
    {
     "data": {
      "text/plain": [
       "CVC2D(u=3, v=4)"
      ]
     },
     "execution_count": 3,
     "metadata": {},
     "output_type": "execute_result"
    }
   ],
   "source": [
    "# Create a vector that is perpendicular to a vector\n",
    "u = CVC2D(4, -3)\n",
    "u.perp()"
   ]
  },
  {
   "cell_type": "code",
   "execution_count": 4,
   "metadata": {},
   "outputs": [
    {
     "data": {
      "text/plain": [
       "CVC2D(u=0, v=0)"
      ]
     },
     "execution_count": 4,
     "metadata": {},
     "output_type": "execute_result"
    }
   ],
   "source": [
    "# NB: The zero vector is perpendicular to all vectors, including itself\n",
    "u = CVC2D(0, 0)\n",
    "u.perp()"
   ]
  },
  {
   "cell_type": "code",
   "execution_count": 5,
   "metadata": {},
   "outputs": [
    {
     "data": {
      "text/plain": [
       "10"
      ]
     },
     "execution_count": 5,
     "metadata": {},
     "output_type": "execute_result"
    }
   ],
   "source": [
    "# Calculate the perp-dot product of a vector and another\n",
    "u = CVC2D(1, -2)\n",
    "v = CVC2D(3, 4)\n",
    "u.perp_dot(v)"
   ]
  },
  {
   "cell_type": "code",
   "execution_count": 6,
   "metadata": {},
   "outputs": [
    {
     "data": {
      "text/plain": [
       "-0.7071067811865475"
      ]
     },
     "execution_count": 6,
     "metadata": {},
     "output_type": "execute_result"
    }
   ],
   "source": [
    "# Calculate the sine (from -cunit to +cunit) of the counterclockwise angle between a vector and another\n",
    "u = CVC2D(3, 0)\n",
    "v = CVC2D(1, -1)\n",
    "u.sin(v)  # = -2**-0.5"
   ]
  },
  {
   "cell_type": "code",
   "execution_count": 7,
   "metadata": {},
   "outputs": [
    {
     "data": {
      "text/plain": [
       "-2.356194490192345"
      ]
     },
     "execution_count": 7,
     "metadata": {},
     "output_type": "execute_result"
    }
   ],
   "source": [
    "# Calculate the counterclockwise angle in radians (from -cunit*pi to +cunit*pi) between a vector and another\n",
    "u = CVC2D(1, 1)\n",
    "v = CVC2D(0, -1)\n",
    "u.angle(v)  # = -3/4*pi radians"
   ]
  },
  {
   "cell_type": "code",
   "execution_count": 8,
   "metadata": {},
   "outputs": [
    {
     "data": {
      "text/plain": [
       "2.356194490192345"
      ]
     },
     "execution_count": 8,
     "metadata": {},
     "output_type": "execute_result"
    }
   ],
   "source": [
    "# Calculate the counterclockwise angle in radians between a vector and another\n",
    "u = CVC2D(1, 1)\n",
    "v = CVC2D(-1, 0)\n",
    "u.angle(v)  # = 3/4*pi radians"
   ]
  },
  {
   "cell_type": "code",
   "execution_count": 9,
   "metadata": {},
   "outputs": [
    {
     "data": {
      "text/plain": [
       "CVC2D(u=0.9999999999999998, v=-1.0000000000000002)"
      ]
     },
     "execution_count": 9,
     "metadata": {},
     "output_type": "execute_result"
    }
   ],
   "source": [
    "# Create a vector by rotating a vector counterclockwise by an angle in radians\n",
    "u = CVC2D(1, 1)\n",
    "u.rotate(angle=3/2*pi)"
   ]
  },
  {
   "cell_type": "code",
   "execution_count": 10,
   "metadata": {},
   "outputs": [
    {
     "data": {
      "text/plain": [
       "CVC2D(u=12.0, v=-9.0)"
      ]
     },
     "execution_count": 10,
     "metadata": {},
     "output_type": "execute_result"
    }
   ],
   "source": [
    "# Create a vector by reorienting a vector from one direction to another direction\n",
    "# NB: The two direction vectors must not have opposite directions\n",
    "u = CVC2D(9, 12)\n",
    "v = CVC2D(1, 0)\n",
    "w = CVC2D(0, -2)\n",
    "u.reorient(v, w)"
   ]
  },
  {
   "cell_type": "code",
   "execution_count": 11,
   "metadata": {},
   "outputs": [
    {
     "data": {
      "text/plain": [
       "True"
      ]
     },
     "execution_count": 11,
     "metadata": {},
     "output_type": "execute_result"
    }
   ],
   "source": [
    "# Check if a vector is parallel to another\n",
    "u = CVC2D(1, 0)\n",
    "v = CVC2D(-2, 0)\n",
    "u.are_parallel(v)"
   ]
  },
  {
   "cell_type": "code",
   "execution_count": 12,
   "metadata": {},
   "outputs": [
    {
     "data": {
      "text/plain": [
       "False"
      ]
     },
     "execution_count": 12,
     "metadata": {},
     "output_type": "execute_result"
    }
   ],
   "source": [
    "# Check if a vector is parallel to another\n",
    "u = CVC2D(1, 1)\n",
    "v = CVC2D(-2, 0)\n",
    "u.are_parallel(v)"
   ]
  },
  {
   "cell_type": "code",
   "execution_count": 13,
   "metadata": {},
   "outputs": [
    {
     "data": {
      "text/plain": [
       "True"
      ]
     },
     "execution_count": 13,
     "metadata": {},
     "output_type": "execute_result"
    }
   ],
   "source": [
    "# NB: All vectors are parallel to the zero vector\n",
    "u = CVC2D(3, -4)\n",
    "v = CVC2D(0, 0)\n",
    "u.are_parallel(v)"
   ]
  },
  {
   "cell_type": "code",
   "execution_count": 14,
   "metadata": {},
   "outputs": [
    {
     "data": {
      "text/plain": [
       "True"
      ]
     },
     "execution_count": 14,
     "metadata": {},
     "output_type": "execute_result"
    }
   ],
   "source": [
    "# NB: The zero vector is parallel to all vectors\n",
    "u = CVC2D(0, 0)\n",
    "v = CVC2D(3, -4)\n",
    "u.are_parallel(v)"
   ]
  },
  {
   "cell_type": "code",
   "execution_count": 15,
   "metadata": {},
   "outputs": [
    {
     "data": {
      "text/plain": [
       "True"
      ]
     },
     "execution_count": 15,
     "metadata": {},
     "output_type": "execute_result"
    }
   ],
   "source": [
    "# NB: The zero vector is parallel to itself\n",
    "u = CVC2D(0, 0)\n",
    "u.are_parallel(u)"
   ]
  },
  {
   "cell_type": "code",
   "execution_count": 16,
   "metadata": {},
   "outputs": [
    {
     "data": {
      "text/plain": [
       "CVC2D(u=1.0000000000000002, v=-1.7320508075688772)"
      ]
     },
     "execution_count": 16,
     "metadata": {},
     "output_type": "execute_result"
    }
   ],
   "source": [
    "# Create a vector from polar coordinates\n",
    "# The azimuth angle is in radians\n",
    "CVC2D.from_polar(radius=2, azimuth=-pi/3)  # u = 1.0, v = -3**0.5"
   ]
  },
  {
   "cell_type": "code",
   "execution_count": 17,
   "metadata": {},
   "outputs": [
    {
     "data": {
      "text/plain": [
       "[CVC2D(u=1.0, v=0.0),\n",
       " CVC2D(u=6.123233995736766e-17, v=1.0),\n",
       " CVC2D(u=-1.0, v=1.2246467991473532e-16),\n",
       " CVC2D(u=-1.8369701987210297e-16, v=-1.0)]"
      ]
     },
     "execution_count": 17,
     "metadata": {},
     "output_type": "execute_result"
    }
   ],
   "source": [
    "# Create vectors from polar coordinates\n",
    "[\n",
    "    CVC2D.from_polar(1, azimuth)\n",
    "    for azimuth in [ 0/2*pi, 1/2*pi, 2/2*pi, 3/2*pi ]\n",
    "]"
   ]
  },
  {
   "cell_type": "code",
   "execution_count": 18,
   "metadata": {},
   "outputs": [
    {
     "data": {
      "text/plain": [
       "{'azimuth': -1.0471975511965976, 'radius': 1.9999999999999998}"
      ]
     },
     "execution_count": 18,
     "metadata": {},
     "output_type": "execute_result"
    }
   ],
   "source": [
    "# Calculate the polar coordinates for a vector and return them in a dictionary\n",
    "# The azimuth angle is in radians\n",
    "u = CVC2D(1, -3**0.5)\n",
    "u.polar_as_dict()  # radius = 2.0, azimuth = -pi/3 radians"
   ]
  },
  {
   "cell_type": "code",
   "execution_count": 19,
   "metadata": {},
   "outputs": [
    {
     "data": {
      "text/plain": [
       "1.9999999999999998"
      ]
     },
     "execution_count": 19,
     "metadata": {},
     "output_type": "execute_result"
    }
   ],
   "source": [
    "# Calculate the radius of a vector converted to polar coordinates\n",
    "u = CVC2D(1, -3**0.5)\n",
    "u.radius"
   ]
  },
  {
   "cell_type": "code",
   "execution_count": 20,
   "metadata": {},
   "outputs": [
    {
     "data": {
      "text/plain": [
       "-1.0471975511965976"
      ]
     },
     "execution_count": 20,
     "metadata": {},
     "output_type": "execute_result"
    }
   ],
   "source": [
    "# Calculate the azimuth angle in radians of a vector converted to polar coordinates\n",
    "u = CVC2D(1, -3**0.5)\n",
    "u.azimuth"
   ]
  },
  {
   "cell_type": "code",
   "execution_count": null,
   "metadata": {},
   "outputs": [],
   "source": []
  }
 ],
 "metadata": {
  "kernelspec": {
   "display_name": "Python 3",
   "language": "python",
   "name": "python3"
  },
  "language_info": {
   "codemirror_mode": {
    "name": "ipython",
    "version": 3
   },
   "file_extension": ".py",
   "mimetype": "text/x-python",
   "name": "python",
   "nbconvert_exporter": "python",
   "pygments_lexer": "ipython3",
   "version": "3.6.7"
  }
 },
 "nbformat": 4,
 "nbformat_minor": 2
}
