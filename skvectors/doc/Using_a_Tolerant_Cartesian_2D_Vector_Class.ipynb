{
 "cells": [
  {
   "cell_type": "markdown",
   "metadata": {},
   "source": [
    "# Using a Tolerant Cartesian 2D Vector Class"
   ]
  },
  {
   "cell_type": "markdown",
   "metadata": {},
   "source": [
    "Copyright (c) 2019 Tor Olav Kristensen, http://subcube.com\n",
    "\n",
    "https://github.com/t-o-k/scikit-vectors\n",
    "\n",
    "Use of this source code is governed by a BSD-license that can be found in the LICENSE file."
   ]
  },
  {
   "cell_type": "code",
   "execution_count": 1,
   "metadata": {},
   "outputs": [],
   "source": [
    "from math import acos\n",
    "\n",
    "from skvectors import create_class_Tolerant_Cartesian_2D_Vector"
   ]
  },
  {
   "cell_type": "code",
   "execution_count": 2,
   "metadata": {
    "scrolled": false
   },
   "outputs": [],
   "source": [
    "# Create a 2-dimensional tolerant cartesian vector class\n",
    "\n",
    "TCVC2D = create_class_Tolerant_Cartesian_2D_Vector('TCVC2D', 'uv')\n",
    "\n",
    "# Explicit alternative:\n",
    "# TCVC2D = \\\n",
    "#     create_class_Tolerant_Cartesian_2D_Vector(\n",
    "#         name = 'TCVC2D',\n",
    "#         component_names = [ 'u', 'v' ],\n",
    "#         brackets = [ '<', '>' ],\n",
    "#         sep = ', ',\n",
    "#         cnull = 0,\n",
    "#         cunit = 1,\n",
    "#         functions = None,\n",
    "#         abs_tol = 1e-12,\n",
    "#         rel_tol = 1e-9\n",
    "#     )"
   ]
  },
  {
   "cell_type": "code",
   "execution_count": 3,
   "metadata": {},
   "outputs": [
    {
     "data": {
      "text/plain": [
       "1e-12"
      ]
     },
     "execution_count": 3,
     "metadata": {},
     "output_type": "execute_result"
    }
   ],
   "source": [
    "# Absolute tolerance for vector lengths\n",
    "TCVC2D.abs_tol"
   ]
  },
  {
   "cell_type": "code",
   "execution_count": 4,
   "metadata": {},
   "outputs": [
    {
     "data": {
      "text/plain": [
       "1e-09"
      ]
     },
     "execution_count": 4,
     "metadata": {},
     "output_type": "execute_result"
    }
   ],
   "source": [
    "# Relative tolerance for vector lengths\n",
    "TCVC2D.rel_tol"
   ]
  },
  {
   "cell_type": "code",
   "execution_count": 5,
   "metadata": {},
   "outputs": [
    {
     "data": {
      "text/plain": [
       "(1e-12, 1e-12)"
      ]
     },
     "execution_count": 5,
     "metadata": {},
     "output_type": "execute_result"
    }
   ],
   "source": [
    "# Calculate the tolerance for a vector based on its length\n",
    "u = TCVC2D(0.0, 0.0)  # u.length() = 0.0\n",
    "u.tolerance(), u.tol"
   ]
  },
  {
   "cell_type": "code",
   "execution_count": 6,
   "metadata": {},
   "outputs": [
    {
     "data": {
      "text/plain": [
       "(1e-09, 0.001)"
      ]
     },
     "execution_count": 6,
     "metadata": {},
     "output_type": "execute_result"
    }
   ],
   "source": [
    "# Calculate the tolerance for a vector based on its length\n",
    "u = TCVC2D(-0.6, 0.8)  # u.length() = 1.0\n",
    "u.tol, (1e6 * u).tol"
   ]
  },
  {
   "cell_type": "code",
   "execution_count": 7,
   "metadata": {},
   "outputs": [
    {
     "data": {
      "text/plain": [
       "(5e-09, 5.0000000000000005e-12, 1e-12, 1e-12)"
      ]
     },
     "execution_count": 7,
     "metadata": {},
     "output_type": "execute_result"
    }
   ],
   "source": [
    "# Calculate the tolerance for a vector based on its length\n",
    "u = TCVC2D(3, -4)  # u.length() = 5.0\n",
    "u.tol, (u / 1e3).tol, (u / 1e6).tol, (u / 1e9).tol"
   ]
  },
  {
   "cell_type": "code",
   "execution_count": 8,
   "metadata": {},
   "outputs": [
    {
     "data": {
      "text/plain": [
       "1e-12"
      ]
     },
     "execution_count": 8,
     "metadata": {},
     "output_type": "execute_result"
    }
   ],
   "source": [
    "# Calculate a common tolerance for a vector and another based on their lengths\n",
    "u = TCVC2D(0, 0)\n",
    "v = TCVC2D(0, 0)\n",
    "u.tolerance_with(v)"
   ]
  },
  {
   "cell_type": "code",
   "execution_count": 9,
   "metadata": {},
   "outputs": [
    {
     "data": {
      "text/plain": [
       "(5e-09, 5e-09)"
      ]
     },
     "execution_count": 9,
     "metadata": {},
     "output_type": "execute_result"
    }
   ],
   "source": [
    "# Calculate a common tolerance for a vector and another based on their lengths\n",
    "u = TCVC2D(-0.6, 0.8)  # u.length() = 1.0\n",
    "v = TCVC2D(3.0, -4.0)  # v.length() = 5.0\n",
    "u.tolerance_with(v), v.tolerance_with(u)"
   ]
  },
  {
   "cell_type": "code",
   "execution_count": 10,
   "metadata": {},
   "outputs": [
    {
     "data": {
      "text/plain": [
       "1e-12"
      ]
     },
     "execution_count": 10,
     "metadata": {},
     "output_type": "execute_result"
    }
   ],
   "source": [
    "# Calculate a common tolerance for several vectors based on their lengths\n",
    "u = TCVC2D(0, 0)\n",
    "v = TCVC2D(0, 0)\n",
    "some_vectors = [ u, v ]\n",
    "TCVC2D.tolerance_all(some_vectors)"
   ]
  },
  {
   "cell_type": "code",
   "execution_count": 11,
   "metadata": {},
   "outputs": [
    {
     "data": {
      "text/plain": [
       "(6.000000000000001e-09, 6.000000000000001e-09)"
      ]
     },
     "execution_count": 11,
     "metadata": {},
     "output_type": "execute_result"
    }
   ],
   "source": [
    "# Calculate a common tolerance for several vectors based on their lengths\n",
    "u = TCVC2D(-0.6, 0.8)  # u.length() = 1.0\n",
    "v = TCVC2D(3.0, -4.0)  # v.length() = 5.0\n",
    "some_vectors = [ u, v, u - v, u + v ]\n",
    "TCVC2D.tolerance_all(some_vectors), TCVC2D.tolerance_all(vector for vector in some_vectors)"
   ]
  },
  {
   "cell_type": "code",
   "execution_count": 12,
   "metadata": {},
   "outputs": [],
   "source": [
    "# NB: This does not work:\n",
    "# TCVC2D.tolerance_all([ ])"
   ]
  },
  {
   "cell_type": "code",
   "execution_count": 13,
   "metadata": {},
   "outputs": [],
   "source": [
    "# NB: This does not work:\n",
    "# u = TCVC2D(3.0, -4.0)\n",
    "# TCVC2D.tolerance_all([ u ])"
   ]
  },
  {
   "cell_type": "code",
   "execution_count": 14,
   "metadata": {},
   "outputs": [
    {
     "data": {
      "text/plain": [
       "True"
      ]
     },
     "execution_count": 14,
     "metadata": {},
     "output_type": "execute_result"
    }
   ],
   "source": [
    "# Check if the length of a vector is equal to cnull (within a calculated tolerance)\n",
    "nil = TCVC2D.abs_tol / 2\n",
    "u = TCVC2D(0, -nil)  # u.length() = 5e-13\n",
    "u.is_zero_vector()"
   ]
  },
  {
   "cell_type": "code",
   "execution_count": 15,
   "metadata": {},
   "outputs": [
    {
     "data": {
      "text/plain": [
       "False"
      ]
     },
     "execution_count": 15,
     "metadata": {},
     "output_type": "execute_result"
    }
   ],
   "source": [
    "# Check if the length of a vector is equal to cnull (within a calculated tolerance)\n",
    "not_nil = TCVC2D.abs_tol * 2\n",
    "u = TCVC2D(0, -not_nil)  # u.length() = 2e-12\n",
    "u.is_zero_vector()"
   ]
  },
  {
   "cell_type": "code",
   "execution_count": 16,
   "metadata": {},
   "outputs": [
    {
     "data": {
      "text/plain": [
       "False"
      ]
     },
     "execution_count": 16,
     "metadata": {},
     "output_type": "execute_result"
    }
   ],
   "source": [
    "# Check if the length of a vector is not equal to cnull (within a calculated tolerance)\n",
    "nil = TCVC2D.abs_tol / 2\n",
    "u = TCVC2D(0, -nil)  # u.length() = 5e-13\n",
    "bool(u)"
   ]
  },
  {
   "cell_type": "code",
   "execution_count": 17,
   "metadata": {},
   "outputs": [
    {
     "data": {
      "text/plain": [
       "True"
      ]
     },
     "execution_count": 17,
     "metadata": {},
     "output_type": "execute_result"
    }
   ],
   "source": [
    "# Check if the length of a vector is not equal to cnull (within a calculated tolerance)\n",
    "not_nil = TCVC2D.abs_tol * 2\n",
    "u = TCVC2D(0, -not_nil)  # u.length() = 2e-12\n",
    "bool(u)"
   ]
  },
  {
   "cell_type": "code",
   "execution_count": 18,
   "metadata": {},
   "outputs": [
    {
     "data": {
      "text/plain": [
       "True"
      ]
     },
     "execution_count": 18,
     "metadata": {},
     "output_type": "execute_result"
    }
   ],
   "source": [
    "# Check if the length of a vector is equal to cunit (within a calculated tolerance)\n",
    "u = TCVC2D(-0.6, 0.8)  # u.length() = 1.0\n",
    "nil = TCVC2D.rel_tol / 2\n",
    "v = (1 + nil) * u  # Make the length of v slightly longer than 1.0; v.length() = 1.0 + 5e-10\n",
    "v.is_unit_vector()"
   ]
  },
  {
   "cell_type": "code",
   "execution_count": 19,
   "metadata": {},
   "outputs": [
    {
     "data": {
      "text/plain": [
       "False"
      ]
     },
     "execution_count": 19,
     "metadata": {},
     "output_type": "execute_result"
    }
   ],
   "source": [
    "# Check if the length of a vector is equal to cunit (within a calculated tolerance)\n",
    "u = TCVC2D(-0.6, 0.8)  # u.length() = 1.0\n",
    "not_nil = TCVC2D.rel_tol * 2\n",
    "v = (1 + not_nil) * u  # Make the length of v longer than 1.0; v.length() = 1.0 + 2e-9\n",
    "v.is_unit_vector()"
   ]
  },
  {
   "cell_type": "code",
   "execution_count": 20,
   "metadata": {},
   "outputs": [
    {
     "data": {
      "text/plain": [
       "True"
      ]
     },
     "execution_count": 20,
     "metadata": {},
     "output_type": "execute_result"
    }
   ],
   "source": [
    "# Check if a vector is equal to another (within a calculated tolerance)\n",
    "u = TCVC2D(3, -4)\n",
    "nil = u.tolerance() / 2\n",
    "v = (1 + nil / u.length()) * u  # Make v slightly different from u\n",
    "u == v"
   ]
  },
  {
   "cell_type": "code",
   "execution_count": 21,
   "metadata": {},
   "outputs": [
    {
     "data": {
      "text/plain": [
       "False"
      ]
     },
     "execution_count": 21,
     "metadata": {},
     "output_type": "execute_result"
    }
   ],
   "source": [
    "# Check if a vector is equal to another (within a calculated tolerance)\n",
    "u = TCVC2D(3, -4)\n",
    "not_nil = u.tolerance() * 2\n",
    "v = (1 + not_nil / u.length()) * u  # Make v different from u\n",
    "u == v"
   ]
  },
  {
   "cell_type": "code",
   "execution_count": 22,
   "metadata": {},
   "outputs": [
    {
     "data": {
      "text/plain": [
       "True"
      ]
     },
     "execution_count": 22,
     "metadata": {},
     "output_type": "execute_result"
    }
   ],
   "source": [
    "# Check if a vector is equal to any of some other vectors (within a calculated tolerance)\n",
    "u = TCVC2D(3, -4)\n",
    "nil = u.tolerance() / 2\n",
    "v = (1 + nil / u.length()) * u  # Make v slightly different from u\n",
    "w = TCVC2D(-4, 3)\n",
    "some_vectors = [ v, w ]\n",
    "u in some_vectors"
   ]
  },
  {
   "cell_type": "code",
   "execution_count": 23,
   "metadata": {},
   "outputs": [
    {
     "data": {
      "text/plain": [
       "False"
      ]
     },
     "execution_count": 23,
     "metadata": {},
     "output_type": "execute_result"
    }
   ],
   "source": [
    "# Check if a vector is equal to any of some other vectors (within a calculated tolerance)\n",
    "u = TCVC2D(3, -4)\n",
    "not_nil = u.tolerance() * 2\n",
    "v = (1 + not_nil / u.length()) * u  # Make v different from u\n",
    "w = TCVC2D(-4, 3)\n",
    "some_vectors = [ v, w ]\n",
    "u in some_vectors"
   ]
  },
  {
   "cell_type": "code",
   "execution_count": 24,
   "metadata": {},
   "outputs": [
    {
     "data": {
      "text/plain": [
       "False"
      ]
     },
     "execution_count": 24,
     "metadata": {},
     "output_type": "execute_result"
    }
   ],
   "source": [
    "# Check if a vector is not equal to another (within a calculated tolerance)\n",
    "u = TCVC2D(3, -4)\n",
    "nil = u.tolerance() / 2\n",
    "v = (1 + nil / u.length()) * u  # Make v slightly different from u\n",
    "u != v"
   ]
  },
  {
   "cell_type": "code",
   "execution_count": 25,
   "metadata": {},
   "outputs": [
    {
     "data": {
      "text/plain": [
       "True"
      ]
     },
     "execution_count": 25,
     "metadata": {},
     "output_type": "execute_result"
    }
   ],
   "source": [
    "# Check if a vector is not equal to another (within a calculated tolerance)\n",
    "u = TCVC2D(3, -4)\n",
    "not_nil = u.tolerance() * 2\n",
    "v = (1 + not_nil / u.length()) * u  # Make v different from u\n",
    "u != v"
   ]
  },
  {
   "cell_type": "code",
   "execution_count": 26,
   "metadata": {},
   "outputs": [
    {
     "data": {
      "text/plain": [
       "False"
      ]
     },
     "execution_count": 26,
     "metadata": {},
     "output_type": "execute_result"
    }
   ],
   "source": [
    "# Check if a vector is not equal to any of some other vectors (within a calculated tolerance)\n",
    "u = TCVC2D(3, -4)\n",
    "nil = u.tolerance() / 2\n",
    "v = (1 + nil / u.length()) * u  # Make v slightly different from u\n",
    "w = TCVC2D(-4, 3)\n",
    "some_vectors = [ v, w ]\n",
    "u not in some_vectors"
   ]
  },
  {
   "cell_type": "code",
   "execution_count": 27,
   "metadata": {},
   "outputs": [
    {
     "data": {
      "text/plain": [
       "True"
      ]
     },
     "execution_count": 27,
     "metadata": {},
     "output_type": "execute_result"
    }
   ],
   "source": [
    "# Check if a vector is not equal to any of some other vectors (within a calculated tolerance)\n",
    "u = TCVC2D(3, -4)\n",
    "not_nil = u.tolerance() * 2\n",
    "v = (1 + not_nil / u.length()) * u  # Make v different from u\n",
    "w = TCVC2D(-4, 3)\n",
    "some_vectors = [ v, w ]\n",
    "u not in some_vectors"
   ]
  },
  {
   "cell_type": "code",
   "execution_count": 28,
   "metadata": {},
   "outputs": [
    {
     "data": {
      "text/plain": [
       "True"
      ]
     },
     "execution_count": 28,
     "metadata": {},
     "output_type": "execute_result"
    }
   ],
   "source": [
    "# Check if a vector has equal length to another (within a calculated tolerance)\n",
    "u = TCVC2D(3, -4)\n",
    "v = TCVC2D(-4, 3)\n",
    "nil = u.tolerance_with(v) / 2\n",
    "v *= (1 + nil / u.length())  # Make v slightly longer\n",
    "u.equal_lengths(v)"
   ]
  },
  {
   "cell_type": "code",
   "execution_count": 29,
   "metadata": {},
   "outputs": [
    {
     "data": {
      "text/plain": [
       "False"
      ]
     },
     "execution_count": 29,
     "metadata": {},
     "output_type": "execute_result"
    }
   ],
   "source": [
    "# Check if a vector has equal length to another (within a calculated tolerance)\n",
    "u = TCVC2D(3, -4)\n",
    "v = TCVC2D(-4, 3)\n",
    "not_nil = u.tolerance_with(v) * 2\n",
    "v *= (1 + not_nil / u.length())  # Make v longer\n",
    "u.equal_lengths(v)"
   ]
  },
  {
   "cell_type": "code",
   "execution_count": 30,
   "metadata": {},
   "outputs": [
    {
     "data": {
      "text/plain": [
       "False"
      ]
     },
     "execution_count": 30,
     "metadata": {},
     "output_type": "execute_result"
    }
   ],
   "source": [
    "# Check if a vector is shorter than another vector (within a calculated tolerance)\n",
    "u = TCVC2D(3, -4)\n",
    "v = TCVC2D(-4, 3)\n",
    "nil = u.tolerance_with(v) / 2\n",
    "u *= (1 - nil / u.length())  # Make u slightly shorter\n",
    "u.shorter(v)"
   ]
  },
  {
   "cell_type": "code",
   "execution_count": 31,
   "metadata": {},
   "outputs": [
    {
     "data": {
      "text/plain": [
       "True"
      ]
     },
     "execution_count": 31,
     "metadata": {},
     "output_type": "execute_result"
    }
   ],
   "source": [
    "# Check if a vector is shorter than another vector (within a calculated tolerance)\n",
    "u = TCVC2D(3, -4)\n",
    "v = TCVC2D(-4, 3)\n",
    "not_nil = u.tolerance_with(v) * 2\n",
    "u *= (1 - not_nil / u.length())  # Make u shorter\n",
    "u.shorter(v)"
   ]
  },
  {
   "cell_type": "code",
   "execution_count": 32,
   "metadata": {},
   "outputs": [
    {
     "data": {
      "text/plain": [
       "False"
      ]
     },
     "execution_count": 32,
     "metadata": {},
     "output_type": "execute_result"
    }
   ],
   "source": [
    "# Check if a vector is longer than another vector (within a calculated tolerance)\n",
    "u = TCVC2D(3, -4)\n",
    "v = TCVC2D(-4, 3)\n",
    "nil = u.tolerance_with(v) / 2\n",
    "u *= (1 + nil / u.length())  # Make u slightly longer\n",
    "u.longer(v)"
   ]
  },
  {
   "cell_type": "code",
   "execution_count": 33,
   "metadata": {},
   "outputs": [
    {
     "data": {
      "text/plain": [
       "True"
      ]
     },
     "execution_count": 33,
     "metadata": {},
     "output_type": "execute_result"
    }
   ],
   "source": [
    "# Check if a vector is longer than another vector (within a calculated tolerance)\n",
    "u = TCVC2D(3, -4)\n",
    "v = TCVC2D(-4, 3)\n",
    "not_nil = u.tolerance_with(v) * 2\n",
    "u *= (1 + not_nil / u.length())  # Make u longer\n",
    "u.longer(v)"
   ]
  },
  {
   "cell_type": "code",
   "execution_count": 34,
   "metadata": {},
   "outputs": [
    {
     "data": {
      "text/plain": [
       "True"
      ]
     },
     "execution_count": 34,
     "metadata": {},
     "output_type": "execute_result"
    }
   ],
   "source": [
    "# Check if a vector is orthogonal to another (within a calculated tolerance)\n",
    "u = TCVC2D(3, -4)\n",
    "v = TCVC2D(0, 0)\n",
    "nil = TCVC2D.abs_tol / 2\n",
    "v.u = nil\n",
    "u.are_orthogonal(v)"
   ]
  },
  {
   "cell_type": "code",
   "execution_count": 35,
   "metadata": {},
   "outputs": [
    {
     "data": {
      "text/plain": [
       "False"
      ]
     },
     "execution_count": 35,
     "metadata": {},
     "output_type": "execute_result"
    }
   ],
   "source": [
    "# Check if a vector is orthogonal to another (within a calculated tolerance)\n",
    "u = TCVC2D(3, -4)\n",
    "v = TCVC2D(0, 0)\n",
    "not_nil = TCVC2D.abs_tol * 2\n",
    "v.u = not_nil\n",
    "u.are_orthogonal(v)"
   ]
  },
  {
   "cell_type": "code",
   "execution_count": 36,
   "metadata": {},
   "outputs": [
    {
     "data": {
      "text/plain": [
       "(True, True, True)"
      ]
     },
     "execution_count": 36,
     "metadata": {},
     "output_type": "execute_result"
    }
   ],
   "source": [
    "# Check if a vector is orthogonal to another (within a calculated tolerance)\n",
    "u = TCVC2D(3, -4)\n",
    "nil = TCVC2D.abs_tol / 2  # = 5e-13\n",
    "v = u.rotate(acos(nil))  # u.cos(v) = 5e-13\n",
    "u.are_orthogonal(v), (u * 1e9).are_orthogonal(v / 1e9), (u / 1e9).are_orthogonal(v * 1e9)"
   ]
  },
  {
   "cell_type": "code",
   "execution_count": 37,
   "metadata": {},
   "outputs": [
    {
     "data": {
      "text/plain": [
       "(False, False, False)"
      ]
     },
     "execution_count": 37,
     "metadata": {},
     "output_type": "execute_result"
    }
   ],
   "source": [
    "# Check if a vector is orthogonal to another (within a calculated tolerance)\n",
    "u = TCVC2D(3, -4)\n",
    "not_nil = TCVC2D.abs_tol * 2  # = 2e-12\n",
    "v = u.rotate(acos(not_nil))  # u.cos(v) = 2e-12\n",
    "u.are_orthogonal(v), (u * 1e9).are_orthogonal(v / 1e9), (u / 1e9).are_orthogonal(v * 1e9)"
   ]
  },
  {
   "cell_type": "code",
   "execution_count": 38,
   "metadata": {},
   "outputs": [
    {
     "data": {
      "text/plain": [
       "(TCVC2D(u=-1.0, v=2.12345679), TCVC2D(u=-1.0, v=2.12345679))"
      ]
     },
     "execution_count": 38,
     "metadata": {},
     "output_type": "execute_result"
    }
   ],
   "source": [
    "# Create a vector by rounding the component values in a vector\n",
    "u = TCVC2D(-1.000000004, 2.123456789)  #  u.tolerance() = circa 2.3e-9\n",
    "u.round_components(), u.cround"
   ]
  },
  {
   "cell_type": "code",
   "execution_count": null,
   "metadata": {},
   "outputs": [],
   "source": []
  }
 ],
 "metadata": {
  "kernelspec": {
   "display_name": "Python 3",
   "language": "python",
   "name": "python3"
  },
  "language_info": {
   "codemirror_mode": {
    "name": "ipython",
    "version": 3
   },
   "file_extension": ".py",
   "mimetype": "text/x-python",
   "name": "python",
   "nbconvert_exporter": "python",
   "pygments_lexer": "ipython3",
   "version": "3.6.7"
  }
 },
 "nbformat": 4,
 "nbformat_minor": 2
}
